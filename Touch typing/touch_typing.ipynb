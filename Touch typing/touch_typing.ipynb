{
  "cells": [
    {
      "attachments": {},
      "cell_type": "markdown",
      "id": "korean-wednesday",
      "metadata": {
        "id": "korean-wednesday"
      },
      "source": [
        "# Touch Typing\n",
        "You should develop your touch typing skills through the term. In particular, you should do the following:\n",
        "- Do an online typing test with your default typing style using websites such as [TypingAcademy](https://www.typing.academy/typing-tutor/typing-test). Write down the results in the following table.\n",
        "- Start doing online touch typing exercises using websites such as [TypingClub](https://www.typingclub.com/).\n",
        "- Keep doing the exercises and updating the following table until the end of the term. Present the table and discuss your progress in your final assignment. \n",
        "\n",
        "### Touch typing\n",
        "\n",
        "| Date | Words per Minute | Error Rate |\n",
        "|------|------------------|------------|\n",
        "| 28/04/2023 | 19.2 | 22.92  |\n",
        "| 28/04/2023 | 24.3  | 20.67  |\n",
        "| 28/04/2023| 26.8 | 15.45 |\n",
        "| 29/04/2023 | 33.8 | 8.14 |\n",
        "\n",
        "### Default typing style\n",
        "\n",
        "| Date | Words per Minute | Error Rate |\n",
        "|------|------------------|------------|\n",
        "| 28/04/2023 | 48.4 | 2.27  |\n"
      ]
    },
    {
      "attachments": {},
      "cell_type": "markdown",
      "id": "c206fdac",
      "metadata": {},
      "source": [
        "### Progress \n",
        "\n",
        "The results using the touch typing style were worse than the results using the default typing style, however, it is a normal process, since the subconscious was still not familiar with the keyboard, as the objective of touch typing is to anchor the handling of the keyboard in the subconscious . Although the touch typing test was not regularly done, the progress from the 2 first days is very noticeable as they were increasing in a high rate, due to online practice exercises."
      ]
    }
  ],
  "metadata": {
    "colab": {
      "provenance": []
    },
    "kernelspec": {
      "display_name": "Python 3",
      "language": "python",
      "name": "python3"
    },
    "language_info": {
      "codemirror_mode": {
        "name": "ipython",
        "version": 3
      },
      "file_extension": ".py",
      "mimetype": "text/x-python",
      "name": "python",
      "nbconvert_exporter": "python",
      "pygments_lexer": "ipython3",
      "version": "3.8.5"
    }
  },
  "nbformat": 4,
  "nbformat_minor": 5
}
