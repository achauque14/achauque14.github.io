{
  "cells": [
    {
      "attachments": {},
      "cell_type": "markdown",
      "id": "c86e0e84",
      "metadata": {},
      "source": [
        "sas"
      ]
    },
    {
      "attachments": {},
      "cell_type": "markdown",
      "id": "korean-wednesday",
      "metadata": {
        "id": "korean-wednesday"
      },
      "source": [
        "# Jupyter\n",
        "You should build a data analytics project in a Jupyter notebook. In particular, you should do the following:\n",
        "- Load the Gapminder dataset using the below code cell.\n",
        "- Extract and visualize interesting insights about countries using [Pandas](https://pandas.pydata.org/) and [Plotly](https://plotly.com/python/).\n",
        "- Structure, document, and decorate your notebook using [Markdown](https://www.markdownguide.org/basic-syntax/)."
      ]
    },
    {
      "cell_type": "code",
      "execution_count": 9,
      "id": "cff7f270",
      "metadata": {
        "id": "cff7f270"
      },
      "outputs": [
        {
          "data": {
            "text/html": [
              "<div>\n",
              "<style scoped>\n",
              "    .dataframe tbody tr th:only-of-type {\n",
              "        vertical-align: middle;\n",
              "    }\n",
              "\n",
              "    .dataframe tbody tr th {\n",
              "        vertical-align: top;\n",
              "    }\n",
              "\n",
              "    .dataframe thead th {\n",
              "        text-align: right;\n",
              "    }\n",
              "</style>\n",
              "<table border=\"1\" class=\"dataframe\">\n",
              "  <thead>\n",
              "    <tr style=\"text-align: right;\">\n",
              "      <th></th>\n",
              "      <th>country</th>\n",
              "      <th>continent</th>\n",
              "      <th>year</th>\n",
              "      <th>lifeExp</th>\n",
              "      <th>pop</th>\n",
              "      <th>gdpPercap</th>\n",
              "      <th>iso_alpha</th>\n",
              "      <th>iso_num</th>\n",
              "    </tr>\n",
              "  </thead>\n",
              "  <tbody>\n",
              "    <tr>\n",
              "      <th>0</th>\n",
              "      <td>Afghanistan</td>\n",
              "      <td>Asia</td>\n",
              "      <td>1952</td>\n",
              "      <td>28.801</td>\n",
              "      <td>8425333</td>\n",
              "      <td>779.445314</td>\n",
              "      <td>AFG</td>\n",
              "      <td>4</td>\n",
              "    </tr>\n",
              "    <tr>\n",
              "      <th>1</th>\n",
              "      <td>Afghanistan</td>\n",
              "      <td>Asia</td>\n",
              "      <td>1957</td>\n",
              "      <td>30.332</td>\n",
              "      <td>9240934</td>\n",
              "      <td>820.853030</td>\n",
              "      <td>AFG</td>\n",
              "      <td>4</td>\n",
              "    </tr>\n",
              "    <tr>\n",
              "      <th>2</th>\n",
              "      <td>Afghanistan</td>\n",
              "      <td>Asia</td>\n",
              "      <td>1962</td>\n",
              "      <td>31.997</td>\n",
              "      <td>10267083</td>\n",
              "      <td>853.100710</td>\n",
              "      <td>AFG</td>\n",
              "      <td>4</td>\n",
              "    </tr>\n",
              "    <tr>\n",
              "      <th>3</th>\n",
              "      <td>Afghanistan</td>\n",
              "      <td>Asia</td>\n",
              "      <td>1967</td>\n",
              "      <td>34.020</td>\n",
              "      <td>11537966</td>\n",
              "      <td>836.197138</td>\n",
              "      <td>AFG</td>\n",
              "      <td>4</td>\n",
              "    </tr>\n",
              "    <tr>\n",
              "      <th>4</th>\n",
              "      <td>Afghanistan</td>\n",
              "      <td>Asia</td>\n",
              "      <td>1972</td>\n",
              "      <td>36.088</td>\n",
              "      <td>13079460</td>\n",
              "      <td>739.981106</td>\n",
              "      <td>AFG</td>\n",
              "      <td>4</td>\n",
              "    </tr>\n",
              "  </tbody>\n",
              "</table>\n",
              "</div>"
            ],
            "text/plain": [
              "       country continent  year  lifeExp       pop   gdpPercap iso_alpha  \\\n",
              "0  Afghanistan      Asia  1952   28.801   8425333  779.445314       AFG   \n",
              "1  Afghanistan      Asia  1957   30.332   9240934  820.853030       AFG   \n",
              "2  Afghanistan      Asia  1962   31.997  10267083  853.100710       AFG   \n",
              "3  Afghanistan      Asia  1967   34.020  11537966  836.197138       AFG   \n",
              "4  Afghanistan      Asia  1972   36.088  13079460  739.981106       AFG   \n",
              "\n",
              "   iso_num  \n",
              "0        4  \n",
              "1        4  \n",
              "2        4  \n",
              "3        4  \n",
              "4        4  "
            ]
          },
          "execution_count": 9,
          "metadata": {},
          "output_type": "execute_result"
        }
      ],
      "source": [
        "import pandas as pd\n",
        "import plotly\n",
        "import plotly.express as px\n",
        "import plotly.graph_objects as go\n",
        "\n",
        "df = px.data.gapminder()\n",
        "df.head()"
      ]
    },
    {
      "attachments": {},
      "cell_type": "markdown",
      "id": "38b5fe8e",
      "metadata": {},
      "source": [
        "## Life Expectancy in Mozambique over Time"
      ]
    },
    {
      "cell_type": "code",
      "execution_count": 13,
      "id": "48bc3376",
      "metadata": {},
      "outputs": [
        {
          "data": {
            "application/vnd.plotly.v1+json": {
              "config": {
                "plotlyServerURL": "https://plot.ly"
              },
              "data": [
                {
                  "hovertemplate": "year=%{x}<br>lifeExp=%{y}<extra></extra>",
                  "legendgroup": "",
                  "line": {
                    "color": "#636efa",
                    "dash": "solid"
                  },
                  "marker": {
                    "symbol": "circle"
                  },
                  "mode": "lines",
                  "name": "",
                  "orientation": "v",
                  "showlegend": false,
                  "type": "scatter",
                  "x": [
                    1952,
                    1957,
                    1962,
                    1967,
                    1972,
                    1977,
                    1982,
                    1987,
                    1992,
                    1997,
                    2002,
                    2007
                  ],
                  "xaxis": "x",
                  "y": [
                    31.286,
                    33.779,
                    36.161,
                    38.113,
                    40.328,
                    42.495,
                    42.795,
                    42.861,
                    44.284,
                    46.344,
                    44.026,
                    42.082
                  ],
                  "yaxis": "y"
                }
              ],
              "layout": {
                "legend": {
                  "tracegroupgap": 0
                },
                "template": {
                  "data": {
                    "bar": [
                      {
                        "error_x": {
                          "color": "#2a3f5f"
                        },
                        "error_y": {
                          "color": "#2a3f5f"
                        },
                        "marker": {
                          "line": {
                            "color": "#E5ECF6",
                            "width": 0.5
                          },
                          "pattern": {
                            "fillmode": "overlay",
                            "size": 10,
                            "solidity": 0.2
                          }
                        },
                        "type": "bar"
                      }
                    ],
                    "barpolar": [
                      {
                        "marker": {
                          "line": {
                            "color": "#E5ECF6",
                            "width": 0.5
                          },
                          "pattern": {
                            "fillmode": "overlay",
                            "size": 10,
                            "solidity": 0.2
                          }
                        },
                        "type": "barpolar"
                      }
                    ],
                    "carpet": [
                      {
                        "aaxis": {
                          "endlinecolor": "#2a3f5f",
                          "gridcolor": "white",
                          "linecolor": "white",
                          "minorgridcolor": "white",
                          "startlinecolor": "#2a3f5f"
                        },
                        "baxis": {
                          "endlinecolor": "#2a3f5f",
                          "gridcolor": "white",
                          "linecolor": "white",
                          "minorgridcolor": "white",
                          "startlinecolor": "#2a3f5f"
                        },
                        "type": "carpet"
                      }
                    ],
                    "choropleth": [
                      {
                        "colorbar": {
                          "outlinewidth": 0,
                          "ticks": ""
                        },
                        "type": "choropleth"
                      }
                    ],
                    "contour": [
                      {
                        "colorbar": {
                          "outlinewidth": 0,
                          "ticks": ""
                        },
                        "colorscale": [
                          [
                            0,
                            "#0d0887"
                          ],
                          [
                            0.1111111111111111,
                            "#46039f"
                          ],
                          [
                            0.2222222222222222,
                            "#7201a8"
                          ],
                          [
                            0.3333333333333333,
                            "#9c179e"
                          ],
                          [
                            0.4444444444444444,
                            "#bd3786"
                          ],
                          [
                            0.5555555555555556,
                            "#d8576b"
                          ],
                          [
                            0.6666666666666666,
                            "#ed7953"
                          ],
                          [
                            0.7777777777777778,
                            "#fb9f3a"
                          ],
                          [
                            0.8888888888888888,
                            "#fdca26"
                          ],
                          [
                            1,
                            "#f0f921"
                          ]
                        ],
                        "type": "contour"
                      }
                    ],
                    "contourcarpet": [
                      {
                        "colorbar": {
                          "outlinewidth": 0,
                          "ticks": ""
                        },
                        "type": "contourcarpet"
                      }
                    ],
                    "heatmap": [
                      {
                        "colorbar": {
                          "outlinewidth": 0,
                          "ticks": ""
                        },
                        "colorscale": [
                          [
                            0,
                            "#0d0887"
                          ],
                          [
                            0.1111111111111111,
                            "#46039f"
                          ],
                          [
                            0.2222222222222222,
                            "#7201a8"
                          ],
                          [
                            0.3333333333333333,
                            "#9c179e"
                          ],
                          [
                            0.4444444444444444,
                            "#bd3786"
                          ],
                          [
                            0.5555555555555556,
                            "#d8576b"
                          ],
                          [
                            0.6666666666666666,
                            "#ed7953"
                          ],
                          [
                            0.7777777777777778,
                            "#fb9f3a"
                          ],
                          [
                            0.8888888888888888,
                            "#fdca26"
                          ],
                          [
                            1,
                            "#f0f921"
                          ]
                        ],
                        "type": "heatmap"
                      }
                    ],
                    "heatmapgl": [
                      {
                        "colorbar": {
                          "outlinewidth": 0,
                          "ticks": ""
                        },
                        "colorscale": [
                          [
                            0,
                            "#0d0887"
                          ],
                          [
                            0.1111111111111111,
                            "#46039f"
                          ],
                          [
                            0.2222222222222222,
                            "#7201a8"
                          ],
                          [
                            0.3333333333333333,
                            "#9c179e"
                          ],
                          [
                            0.4444444444444444,
                            "#bd3786"
                          ],
                          [
                            0.5555555555555556,
                            "#d8576b"
                          ],
                          [
                            0.6666666666666666,
                            "#ed7953"
                          ],
                          [
                            0.7777777777777778,
                            "#fb9f3a"
                          ],
                          [
                            0.8888888888888888,
                            "#fdca26"
                          ],
                          [
                            1,
                            "#f0f921"
                          ]
                        ],
                        "type": "heatmapgl"
                      }
                    ],
                    "histogram": [
                      {
                        "marker": {
                          "pattern": {
                            "fillmode": "overlay",
                            "size": 10,
                            "solidity": 0.2
                          }
                        },
                        "type": "histogram"
                      }
                    ],
                    "histogram2d": [
                      {
                        "colorbar": {
                          "outlinewidth": 0,
                          "ticks": ""
                        },
                        "colorscale": [
                          [
                            0,
                            "#0d0887"
                          ],
                          [
                            0.1111111111111111,
                            "#46039f"
                          ],
                          [
                            0.2222222222222222,
                            "#7201a8"
                          ],
                          [
                            0.3333333333333333,
                            "#9c179e"
                          ],
                          [
                            0.4444444444444444,
                            "#bd3786"
                          ],
                          [
                            0.5555555555555556,
                            "#d8576b"
                          ],
                          [
                            0.6666666666666666,
                            "#ed7953"
                          ],
                          [
                            0.7777777777777778,
                            "#fb9f3a"
                          ],
                          [
                            0.8888888888888888,
                            "#fdca26"
                          ],
                          [
                            1,
                            "#f0f921"
                          ]
                        ],
                        "type": "histogram2d"
                      }
                    ],
                    "histogram2dcontour": [
                      {
                        "colorbar": {
                          "outlinewidth": 0,
                          "ticks": ""
                        },
                        "colorscale": [
                          [
                            0,
                            "#0d0887"
                          ],
                          [
                            0.1111111111111111,
                            "#46039f"
                          ],
                          [
                            0.2222222222222222,
                            "#7201a8"
                          ],
                          [
                            0.3333333333333333,
                            "#9c179e"
                          ],
                          [
                            0.4444444444444444,
                            "#bd3786"
                          ],
                          [
                            0.5555555555555556,
                            "#d8576b"
                          ],
                          [
                            0.6666666666666666,
                            "#ed7953"
                          ],
                          [
                            0.7777777777777778,
                            "#fb9f3a"
                          ],
                          [
                            0.8888888888888888,
                            "#fdca26"
                          ],
                          [
                            1,
                            "#f0f921"
                          ]
                        ],
                        "type": "histogram2dcontour"
                      }
                    ],
                    "mesh3d": [
                      {
                        "colorbar": {
                          "outlinewidth": 0,
                          "ticks": ""
                        },
                        "type": "mesh3d"
                      }
                    ],
                    "parcoords": [
                      {
                        "line": {
                          "colorbar": {
                            "outlinewidth": 0,
                            "ticks": ""
                          }
                        },
                        "type": "parcoords"
                      }
                    ],
                    "pie": [
                      {
                        "automargin": true,
                        "type": "pie"
                      }
                    ],
                    "scatter": [
                      {
                        "fillpattern": {
                          "fillmode": "overlay",
                          "size": 10,
                          "solidity": 0.2
                        },
                        "type": "scatter"
                      }
                    ],
                    "scatter3d": [
                      {
                        "line": {
                          "colorbar": {
                            "outlinewidth": 0,
                            "ticks": ""
                          }
                        },
                        "marker": {
                          "colorbar": {
                            "outlinewidth": 0,
                            "ticks": ""
                          }
                        },
                        "type": "scatter3d"
                      }
                    ],
                    "scattercarpet": [
                      {
                        "marker": {
                          "colorbar": {
                            "outlinewidth": 0,
                            "ticks": ""
                          }
                        },
                        "type": "scattercarpet"
                      }
                    ],
                    "scattergeo": [
                      {
                        "marker": {
                          "colorbar": {
                            "outlinewidth": 0,
                            "ticks": ""
                          }
                        },
                        "type": "scattergeo"
                      }
                    ],
                    "scattergl": [
                      {
                        "marker": {
                          "colorbar": {
                            "outlinewidth": 0,
                            "ticks": ""
                          }
                        },
                        "type": "scattergl"
                      }
                    ],
                    "scattermapbox": [
                      {
                        "marker": {
                          "colorbar": {
                            "outlinewidth": 0,
                            "ticks": ""
                          }
                        },
                        "type": "scattermapbox"
                      }
                    ],
                    "scatterpolar": [
                      {
                        "marker": {
                          "colorbar": {
                            "outlinewidth": 0,
                            "ticks": ""
                          }
                        },
                        "type": "scatterpolar"
                      }
                    ],
                    "scatterpolargl": [
                      {
                        "marker": {
                          "colorbar": {
                            "outlinewidth": 0,
                            "ticks": ""
                          }
                        },
                        "type": "scatterpolargl"
                      }
                    ],
                    "scatterternary": [
                      {
                        "marker": {
                          "colorbar": {
                            "outlinewidth": 0,
                            "ticks": ""
                          }
                        },
                        "type": "scatterternary"
                      }
                    ],
                    "surface": [
                      {
                        "colorbar": {
                          "outlinewidth": 0,
                          "ticks": ""
                        },
                        "colorscale": [
                          [
                            0,
                            "#0d0887"
                          ],
                          [
                            0.1111111111111111,
                            "#46039f"
                          ],
                          [
                            0.2222222222222222,
                            "#7201a8"
                          ],
                          [
                            0.3333333333333333,
                            "#9c179e"
                          ],
                          [
                            0.4444444444444444,
                            "#bd3786"
                          ],
                          [
                            0.5555555555555556,
                            "#d8576b"
                          ],
                          [
                            0.6666666666666666,
                            "#ed7953"
                          ],
                          [
                            0.7777777777777778,
                            "#fb9f3a"
                          ],
                          [
                            0.8888888888888888,
                            "#fdca26"
                          ],
                          [
                            1,
                            "#f0f921"
                          ]
                        ],
                        "type": "surface"
                      }
                    ],
                    "table": [
                      {
                        "cells": {
                          "fill": {
                            "color": "#EBF0F8"
                          },
                          "line": {
                            "color": "white"
                          }
                        },
                        "header": {
                          "fill": {
                            "color": "#C8D4E3"
                          },
                          "line": {
                            "color": "white"
                          }
                        },
                        "type": "table"
                      }
                    ]
                  },
                  "layout": {
                    "annotationdefaults": {
                      "arrowcolor": "#2a3f5f",
                      "arrowhead": 0,
                      "arrowwidth": 1
                    },
                    "autotypenumbers": "strict",
                    "coloraxis": {
                      "colorbar": {
                        "outlinewidth": 0,
                        "ticks": ""
                      }
                    },
                    "colorscale": {
                      "diverging": [
                        [
                          0,
                          "#8e0152"
                        ],
                        [
                          0.1,
                          "#c51b7d"
                        ],
                        [
                          0.2,
                          "#de77ae"
                        ],
                        [
                          0.3,
                          "#f1b6da"
                        ],
                        [
                          0.4,
                          "#fde0ef"
                        ],
                        [
                          0.5,
                          "#f7f7f7"
                        ],
                        [
                          0.6,
                          "#e6f5d0"
                        ],
                        [
                          0.7,
                          "#b8e186"
                        ],
                        [
                          0.8,
                          "#7fbc41"
                        ],
                        [
                          0.9,
                          "#4d9221"
                        ],
                        [
                          1,
                          "#276419"
                        ]
                      ],
                      "sequential": [
                        [
                          0,
                          "#0d0887"
                        ],
                        [
                          0.1111111111111111,
                          "#46039f"
                        ],
                        [
                          0.2222222222222222,
                          "#7201a8"
                        ],
                        [
                          0.3333333333333333,
                          "#9c179e"
                        ],
                        [
                          0.4444444444444444,
                          "#bd3786"
                        ],
                        [
                          0.5555555555555556,
                          "#d8576b"
                        ],
                        [
                          0.6666666666666666,
                          "#ed7953"
                        ],
                        [
                          0.7777777777777778,
                          "#fb9f3a"
                        ],
                        [
                          0.8888888888888888,
                          "#fdca26"
                        ],
                        [
                          1,
                          "#f0f921"
                        ]
                      ],
                      "sequentialminus": [
                        [
                          0,
                          "#0d0887"
                        ],
                        [
                          0.1111111111111111,
                          "#46039f"
                        ],
                        [
                          0.2222222222222222,
                          "#7201a8"
                        ],
                        [
                          0.3333333333333333,
                          "#9c179e"
                        ],
                        [
                          0.4444444444444444,
                          "#bd3786"
                        ],
                        [
                          0.5555555555555556,
                          "#d8576b"
                        ],
                        [
                          0.6666666666666666,
                          "#ed7953"
                        ],
                        [
                          0.7777777777777778,
                          "#fb9f3a"
                        ],
                        [
                          0.8888888888888888,
                          "#fdca26"
                        ],
                        [
                          1,
                          "#f0f921"
                        ]
                      ]
                    },
                    "colorway": [
                      "#636efa",
                      "#EF553B",
                      "#00cc96",
                      "#ab63fa",
                      "#FFA15A",
                      "#19d3f3",
                      "#FF6692",
                      "#B6E880",
                      "#FF97FF",
                      "#FECB52"
                    ],
                    "font": {
                      "color": "#2a3f5f"
                    },
                    "geo": {
                      "bgcolor": "white",
                      "lakecolor": "white",
                      "landcolor": "#E5ECF6",
                      "showlakes": true,
                      "showland": true,
                      "subunitcolor": "white"
                    },
                    "hoverlabel": {
                      "align": "left"
                    },
                    "hovermode": "closest",
                    "mapbox": {
                      "style": "light"
                    },
                    "paper_bgcolor": "white",
                    "plot_bgcolor": "#E5ECF6",
                    "polar": {
                      "angularaxis": {
                        "gridcolor": "white",
                        "linecolor": "white",
                        "ticks": ""
                      },
                      "bgcolor": "#E5ECF6",
                      "radialaxis": {
                        "gridcolor": "white",
                        "linecolor": "white",
                        "ticks": ""
                      }
                    },
                    "scene": {
                      "xaxis": {
                        "backgroundcolor": "#E5ECF6",
                        "gridcolor": "white",
                        "gridwidth": 2,
                        "linecolor": "white",
                        "showbackground": true,
                        "ticks": "",
                        "zerolinecolor": "white"
                      },
                      "yaxis": {
                        "backgroundcolor": "#E5ECF6",
                        "gridcolor": "white",
                        "gridwidth": 2,
                        "linecolor": "white",
                        "showbackground": true,
                        "ticks": "",
                        "zerolinecolor": "white"
                      },
                      "zaxis": {
                        "backgroundcolor": "#E5ECF6",
                        "gridcolor": "white",
                        "gridwidth": 2,
                        "linecolor": "white",
                        "showbackground": true,
                        "ticks": "",
                        "zerolinecolor": "white"
                      }
                    },
                    "shapedefaults": {
                      "line": {
                        "color": "#2a3f5f"
                      }
                    },
                    "ternary": {
                      "aaxis": {
                        "gridcolor": "white",
                        "linecolor": "white",
                        "ticks": ""
                      },
                      "baxis": {
                        "gridcolor": "white",
                        "linecolor": "white",
                        "ticks": ""
                      },
                      "bgcolor": "#E5ECF6",
                      "caxis": {
                        "gridcolor": "white",
                        "linecolor": "white",
                        "ticks": ""
                      }
                    },
                    "title": {
                      "x": 0.05
                    },
                    "xaxis": {
                      "automargin": true,
                      "gridcolor": "white",
                      "linecolor": "white",
                      "ticks": "",
                      "title": {
                        "standoff": 15
                      },
                      "zerolinecolor": "white",
                      "zerolinewidth": 2
                    },
                    "yaxis": {
                      "automargin": true,
                      "gridcolor": "white",
                      "linecolor": "white",
                      "ticks": "",
                      "title": {
                        "standoff": 15
                      },
                      "zerolinecolor": "white",
                      "zerolinewidth": 2
                    }
                  }
                },
                "title": {
                  "text": "Life Expectancy in Mozambique over Time"
                },
                "xaxis": {
                  "anchor": "y",
                  "domain": [
                    0,
                    1
                  ],
                  "title": {
                    "text": "year"
                  }
                },
                "yaxis": {
                  "anchor": "x",
                  "domain": [
                    0,
                    1
                  ],
                  "title": {
                    "text": "lifeExp"
                  }
                }
              }
            }
          },
          "metadata": {},
          "output_type": "display_data"
        }
      ],
      "source": [
        "country = 'Mozambique'\n",
        "df_country= df[df['country'] == country]\n",
        "\n",
        "fig = px.line(df_country, x='year', y='lifeExp', title='Life Expectancy in Mozambique over Time')\n",
        "fig.show()"
      ]
    },
    {
      "cell_type": "code",
      "execution_count": null,
      "id": "8f55a8e9",
      "metadata": {},
      "outputs": [],
      "source": []
    },
    {
      "attachments": {},
      "cell_type": "markdown",
      "id": "b59a9b25",
      "metadata": {},
      "source": [
        "## Population Of Mozambique Over Time"
      ]
    },
    {
      "cell_type": "code",
      "execution_count": 10,
      "id": "8ca9b58d",
      "metadata": {},
      "outputs": [
        {
          "data": {
            "application/vnd.plotly.v1+json": {
              "config": {
                "plotlyServerURL": "https://plot.ly"
              },
              "data": [
                {
                  "mode": "lines",
                  "name": "Population",
                  "type": "scatter",
                  "x": [
                    1952,
                    1957,
                    1962,
                    1967,
                    1972,
                    1977,
                    1982,
                    1987,
                    1992,
                    1997,
                    2002,
                    2007
                  ],
                  "y": [
                    6446316,
                    7038035,
                    7788944,
                    8680909,
                    9809596,
                    11127868,
                    12587223,
                    12891952,
                    13160731,
                    16603334,
                    18473780,
                    19951656
                  ]
                }
              ],
              "layout": {
                "template": {
                  "data": {
                    "bar": [
                      {
                        "error_x": {
                          "color": "#2a3f5f"
                        },
                        "error_y": {
                          "color": "#2a3f5f"
                        },
                        "marker": {
                          "line": {
                            "color": "#E5ECF6",
                            "width": 0.5
                          },
                          "pattern": {
                            "fillmode": "overlay",
                            "size": 10,
                            "solidity": 0.2
                          }
                        },
                        "type": "bar"
                      }
                    ],
                    "barpolar": [
                      {
                        "marker": {
                          "line": {
                            "color": "#E5ECF6",
                            "width": 0.5
                          },
                          "pattern": {
                            "fillmode": "overlay",
                            "size": 10,
                            "solidity": 0.2
                          }
                        },
                        "type": "barpolar"
                      }
                    ],
                    "carpet": [
                      {
                        "aaxis": {
                          "endlinecolor": "#2a3f5f",
                          "gridcolor": "white",
                          "linecolor": "white",
                          "minorgridcolor": "white",
                          "startlinecolor": "#2a3f5f"
                        },
                        "baxis": {
                          "endlinecolor": "#2a3f5f",
                          "gridcolor": "white",
                          "linecolor": "white",
                          "minorgridcolor": "white",
                          "startlinecolor": "#2a3f5f"
                        },
                        "type": "carpet"
                      }
                    ],
                    "choropleth": [
                      {
                        "colorbar": {
                          "outlinewidth": 0,
                          "ticks": ""
                        },
                        "type": "choropleth"
                      }
                    ],
                    "contour": [
                      {
                        "colorbar": {
                          "outlinewidth": 0,
                          "ticks": ""
                        },
                        "colorscale": [
                          [
                            0,
                            "#0d0887"
                          ],
                          [
                            0.1111111111111111,
                            "#46039f"
                          ],
                          [
                            0.2222222222222222,
                            "#7201a8"
                          ],
                          [
                            0.3333333333333333,
                            "#9c179e"
                          ],
                          [
                            0.4444444444444444,
                            "#bd3786"
                          ],
                          [
                            0.5555555555555556,
                            "#d8576b"
                          ],
                          [
                            0.6666666666666666,
                            "#ed7953"
                          ],
                          [
                            0.7777777777777778,
                            "#fb9f3a"
                          ],
                          [
                            0.8888888888888888,
                            "#fdca26"
                          ],
                          [
                            1,
                            "#f0f921"
                          ]
                        ],
                        "type": "contour"
                      }
                    ],
                    "contourcarpet": [
                      {
                        "colorbar": {
                          "outlinewidth": 0,
                          "ticks": ""
                        },
                        "type": "contourcarpet"
                      }
                    ],
                    "heatmap": [
                      {
                        "colorbar": {
                          "outlinewidth": 0,
                          "ticks": ""
                        },
                        "colorscale": [
                          [
                            0,
                            "#0d0887"
                          ],
                          [
                            0.1111111111111111,
                            "#46039f"
                          ],
                          [
                            0.2222222222222222,
                            "#7201a8"
                          ],
                          [
                            0.3333333333333333,
                            "#9c179e"
                          ],
                          [
                            0.4444444444444444,
                            "#bd3786"
                          ],
                          [
                            0.5555555555555556,
                            "#d8576b"
                          ],
                          [
                            0.6666666666666666,
                            "#ed7953"
                          ],
                          [
                            0.7777777777777778,
                            "#fb9f3a"
                          ],
                          [
                            0.8888888888888888,
                            "#fdca26"
                          ],
                          [
                            1,
                            "#f0f921"
                          ]
                        ],
                        "type": "heatmap"
                      }
                    ],
                    "heatmapgl": [
                      {
                        "colorbar": {
                          "outlinewidth": 0,
                          "ticks": ""
                        },
                        "colorscale": [
                          [
                            0,
                            "#0d0887"
                          ],
                          [
                            0.1111111111111111,
                            "#46039f"
                          ],
                          [
                            0.2222222222222222,
                            "#7201a8"
                          ],
                          [
                            0.3333333333333333,
                            "#9c179e"
                          ],
                          [
                            0.4444444444444444,
                            "#bd3786"
                          ],
                          [
                            0.5555555555555556,
                            "#d8576b"
                          ],
                          [
                            0.6666666666666666,
                            "#ed7953"
                          ],
                          [
                            0.7777777777777778,
                            "#fb9f3a"
                          ],
                          [
                            0.8888888888888888,
                            "#fdca26"
                          ],
                          [
                            1,
                            "#f0f921"
                          ]
                        ],
                        "type": "heatmapgl"
                      }
                    ],
                    "histogram": [
                      {
                        "marker": {
                          "pattern": {
                            "fillmode": "overlay",
                            "size": 10,
                            "solidity": 0.2
                          }
                        },
                        "type": "histogram"
                      }
                    ],
                    "histogram2d": [
                      {
                        "colorbar": {
                          "outlinewidth": 0,
                          "ticks": ""
                        },
                        "colorscale": [
                          [
                            0,
                            "#0d0887"
                          ],
                          [
                            0.1111111111111111,
                            "#46039f"
                          ],
                          [
                            0.2222222222222222,
                            "#7201a8"
                          ],
                          [
                            0.3333333333333333,
                            "#9c179e"
                          ],
                          [
                            0.4444444444444444,
                            "#bd3786"
                          ],
                          [
                            0.5555555555555556,
                            "#d8576b"
                          ],
                          [
                            0.6666666666666666,
                            "#ed7953"
                          ],
                          [
                            0.7777777777777778,
                            "#fb9f3a"
                          ],
                          [
                            0.8888888888888888,
                            "#fdca26"
                          ],
                          [
                            1,
                            "#f0f921"
                          ]
                        ],
                        "type": "histogram2d"
                      }
                    ],
                    "histogram2dcontour": [
                      {
                        "colorbar": {
                          "outlinewidth": 0,
                          "ticks": ""
                        },
                        "colorscale": [
                          [
                            0,
                            "#0d0887"
                          ],
                          [
                            0.1111111111111111,
                            "#46039f"
                          ],
                          [
                            0.2222222222222222,
                            "#7201a8"
                          ],
                          [
                            0.3333333333333333,
                            "#9c179e"
                          ],
                          [
                            0.4444444444444444,
                            "#bd3786"
                          ],
                          [
                            0.5555555555555556,
                            "#d8576b"
                          ],
                          [
                            0.6666666666666666,
                            "#ed7953"
                          ],
                          [
                            0.7777777777777778,
                            "#fb9f3a"
                          ],
                          [
                            0.8888888888888888,
                            "#fdca26"
                          ],
                          [
                            1,
                            "#f0f921"
                          ]
                        ],
                        "type": "histogram2dcontour"
                      }
                    ],
                    "mesh3d": [
                      {
                        "colorbar": {
                          "outlinewidth": 0,
                          "ticks": ""
                        },
                        "type": "mesh3d"
                      }
                    ],
                    "parcoords": [
                      {
                        "line": {
                          "colorbar": {
                            "outlinewidth": 0,
                            "ticks": ""
                          }
                        },
                        "type": "parcoords"
                      }
                    ],
                    "pie": [
                      {
                        "automargin": true,
                        "type": "pie"
                      }
                    ],
                    "scatter": [
                      {
                        "fillpattern": {
                          "fillmode": "overlay",
                          "size": 10,
                          "solidity": 0.2
                        },
                        "type": "scatter"
                      }
                    ],
                    "scatter3d": [
                      {
                        "line": {
                          "colorbar": {
                            "outlinewidth": 0,
                            "ticks": ""
                          }
                        },
                        "marker": {
                          "colorbar": {
                            "outlinewidth": 0,
                            "ticks": ""
                          }
                        },
                        "type": "scatter3d"
                      }
                    ],
                    "scattercarpet": [
                      {
                        "marker": {
                          "colorbar": {
                            "outlinewidth": 0,
                            "ticks": ""
                          }
                        },
                        "type": "scattercarpet"
                      }
                    ],
                    "scattergeo": [
                      {
                        "marker": {
                          "colorbar": {
                            "outlinewidth": 0,
                            "ticks": ""
                          }
                        },
                        "type": "scattergeo"
                      }
                    ],
                    "scattergl": [
                      {
                        "marker": {
                          "colorbar": {
                            "outlinewidth": 0,
                            "ticks": ""
                          }
                        },
                        "type": "scattergl"
                      }
                    ],
                    "scattermapbox": [
                      {
                        "marker": {
                          "colorbar": {
                            "outlinewidth": 0,
                            "ticks": ""
                          }
                        },
                        "type": "scattermapbox"
                      }
                    ],
                    "scatterpolar": [
                      {
                        "marker": {
                          "colorbar": {
                            "outlinewidth": 0,
                            "ticks": ""
                          }
                        },
                        "type": "scatterpolar"
                      }
                    ],
                    "scatterpolargl": [
                      {
                        "marker": {
                          "colorbar": {
                            "outlinewidth": 0,
                            "ticks": ""
                          }
                        },
                        "type": "scatterpolargl"
                      }
                    ],
                    "scatterternary": [
                      {
                        "marker": {
                          "colorbar": {
                            "outlinewidth": 0,
                            "ticks": ""
                          }
                        },
                        "type": "scatterternary"
                      }
                    ],
                    "surface": [
                      {
                        "colorbar": {
                          "outlinewidth": 0,
                          "ticks": ""
                        },
                        "colorscale": [
                          [
                            0,
                            "#0d0887"
                          ],
                          [
                            0.1111111111111111,
                            "#46039f"
                          ],
                          [
                            0.2222222222222222,
                            "#7201a8"
                          ],
                          [
                            0.3333333333333333,
                            "#9c179e"
                          ],
                          [
                            0.4444444444444444,
                            "#bd3786"
                          ],
                          [
                            0.5555555555555556,
                            "#d8576b"
                          ],
                          [
                            0.6666666666666666,
                            "#ed7953"
                          ],
                          [
                            0.7777777777777778,
                            "#fb9f3a"
                          ],
                          [
                            0.8888888888888888,
                            "#fdca26"
                          ],
                          [
                            1,
                            "#f0f921"
                          ]
                        ],
                        "type": "surface"
                      }
                    ],
                    "table": [
                      {
                        "cells": {
                          "fill": {
                            "color": "#EBF0F8"
                          },
                          "line": {
                            "color": "white"
                          }
                        },
                        "header": {
                          "fill": {
                            "color": "#C8D4E3"
                          },
                          "line": {
                            "color": "white"
                          }
                        },
                        "type": "table"
                      }
                    ]
                  },
                  "layout": {
                    "annotationdefaults": {
                      "arrowcolor": "#2a3f5f",
                      "arrowhead": 0,
                      "arrowwidth": 1
                    },
                    "autotypenumbers": "strict",
                    "coloraxis": {
                      "colorbar": {
                        "outlinewidth": 0,
                        "ticks": ""
                      }
                    },
                    "colorscale": {
                      "diverging": [
                        [
                          0,
                          "#8e0152"
                        ],
                        [
                          0.1,
                          "#c51b7d"
                        ],
                        [
                          0.2,
                          "#de77ae"
                        ],
                        [
                          0.3,
                          "#f1b6da"
                        ],
                        [
                          0.4,
                          "#fde0ef"
                        ],
                        [
                          0.5,
                          "#f7f7f7"
                        ],
                        [
                          0.6,
                          "#e6f5d0"
                        ],
                        [
                          0.7,
                          "#b8e186"
                        ],
                        [
                          0.8,
                          "#7fbc41"
                        ],
                        [
                          0.9,
                          "#4d9221"
                        ],
                        [
                          1,
                          "#276419"
                        ]
                      ],
                      "sequential": [
                        [
                          0,
                          "#0d0887"
                        ],
                        [
                          0.1111111111111111,
                          "#46039f"
                        ],
                        [
                          0.2222222222222222,
                          "#7201a8"
                        ],
                        [
                          0.3333333333333333,
                          "#9c179e"
                        ],
                        [
                          0.4444444444444444,
                          "#bd3786"
                        ],
                        [
                          0.5555555555555556,
                          "#d8576b"
                        ],
                        [
                          0.6666666666666666,
                          "#ed7953"
                        ],
                        [
                          0.7777777777777778,
                          "#fb9f3a"
                        ],
                        [
                          0.8888888888888888,
                          "#fdca26"
                        ],
                        [
                          1,
                          "#f0f921"
                        ]
                      ],
                      "sequentialminus": [
                        [
                          0,
                          "#0d0887"
                        ],
                        [
                          0.1111111111111111,
                          "#46039f"
                        ],
                        [
                          0.2222222222222222,
                          "#7201a8"
                        ],
                        [
                          0.3333333333333333,
                          "#9c179e"
                        ],
                        [
                          0.4444444444444444,
                          "#bd3786"
                        ],
                        [
                          0.5555555555555556,
                          "#d8576b"
                        ],
                        [
                          0.6666666666666666,
                          "#ed7953"
                        ],
                        [
                          0.7777777777777778,
                          "#fb9f3a"
                        ],
                        [
                          0.8888888888888888,
                          "#fdca26"
                        ],
                        [
                          1,
                          "#f0f921"
                        ]
                      ]
                    },
                    "colorway": [
                      "#636efa",
                      "#EF553B",
                      "#00cc96",
                      "#ab63fa",
                      "#FFA15A",
                      "#19d3f3",
                      "#FF6692",
                      "#B6E880",
                      "#FF97FF",
                      "#FECB52"
                    ],
                    "font": {
                      "color": "#2a3f5f"
                    },
                    "geo": {
                      "bgcolor": "white",
                      "lakecolor": "white",
                      "landcolor": "#E5ECF6",
                      "showlakes": true,
                      "showland": true,
                      "subunitcolor": "white"
                    },
                    "hoverlabel": {
                      "align": "left"
                    },
                    "hovermode": "closest",
                    "mapbox": {
                      "style": "light"
                    },
                    "paper_bgcolor": "white",
                    "plot_bgcolor": "#E5ECF6",
                    "polar": {
                      "angularaxis": {
                        "gridcolor": "white",
                        "linecolor": "white",
                        "ticks": ""
                      },
                      "bgcolor": "#E5ECF6",
                      "radialaxis": {
                        "gridcolor": "white",
                        "linecolor": "white",
                        "ticks": ""
                      }
                    },
                    "scene": {
                      "xaxis": {
                        "backgroundcolor": "#E5ECF6",
                        "gridcolor": "white",
                        "gridwidth": 2,
                        "linecolor": "white",
                        "showbackground": true,
                        "ticks": "",
                        "zerolinecolor": "white"
                      },
                      "yaxis": {
                        "backgroundcolor": "#E5ECF6",
                        "gridcolor": "white",
                        "gridwidth": 2,
                        "linecolor": "white",
                        "showbackground": true,
                        "ticks": "",
                        "zerolinecolor": "white"
                      },
                      "zaxis": {
                        "backgroundcolor": "#E5ECF6",
                        "gridcolor": "white",
                        "gridwidth": 2,
                        "linecolor": "white",
                        "showbackground": true,
                        "ticks": "",
                        "zerolinecolor": "white"
                      }
                    },
                    "shapedefaults": {
                      "line": {
                        "color": "#2a3f5f"
                      }
                    },
                    "ternary": {
                      "aaxis": {
                        "gridcolor": "white",
                        "linecolor": "white",
                        "ticks": ""
                      },
                      "baxis": {
                        "gridcolor": "white",
                        "linecolor": "white",
                        "ticks": ""
                      },
                      "bgcolor": "#E5ECF6",
                      "caxis": {
                        "gridcolor": "white",
                        "linecolor": "white",
                        "ticks": ""
                      }
                    },
                    "title": {
                      "x": 0.05
                    },
                    "xaxis": {
                      "automargin": true,
                      "gridcolor": "white",
                      "linecolor": "white",
                      "ticks": "",
                      "title": {
                        "standoff": 15
                      },
                      "zerolinecolor": "white",
                      "zerolinewidth": 2
                    },
                    "yaxis": {
                      "automargin": true,
                      "gridcolor": "white",
                      "linecolor": "white",
                      "ticks": "",
                      "title": {
                        "standoff": 15
                      },
                      "zerolinecolor": "white",
                      "zerolinewidth": 2
                    }
                  }
                },
                "title": {
                  "text": "Population of Mozambique Over Time"
                },
                "xaxis": {
                  "title": {
                    "text": "Year"
                  }
                },
                "yaxis": {
                  "title": {
                    "text": "Population"
                  }
                }
              }
            }
          },
          "metadata": {},
          "output_type": "display_data"
        }
      ],
      "source": [
        "fig = go.Figure()\n",
        "fig.add_trace(go.Scatter(x=df_country['year'], y=df_country['pop'],\n",
        "                         mode='lines', name='Population'))\n",
        "fig.update_layout(title=f\"Population of {country} Over Time\",\n",
        "                  xaxis_title=\"Year\", yaxis_title=\"Population\")\n",
        "fig.show()"
      ]
    },
    {
      "attachments": {},
      "cell_type": "markdown",
      "id": "e705fa31",
      "metadata": {},
      "source": [
        "## Life Expectancy distribution in Africa"
      ]
    },
    {
      "cell_type": "code",
      "execution_count": 15,
      "id": "9e63168f",
      "metadata": {},
      "outputs": [
        {
          "data": {
            "application/vnd.plotly.v1+json": {
              "config": {
                "plotlyServerURL": "https://plot.ly"
              },
              "data": [
                {
                  "alignmentgroup": "True",
                  "hovertemplate": "country=%{x}<br>lifeExp=%{y}<extra></extra>",
                  "legendgroup": "",
                  "marker": {
                    "color": "#636efa"
                  },
                  "name": "",
                  "notched": false,
                  "offsetgroup": "",
                  "orientation": "v",
                  "showlegend": false,
                  "type": "box",
                  "x": [
                    "Algeria",
                    "Algeria",
                    "Algeria",
                    "Algeria",
                    "Algeria",
                    "Algeria",
                    "Algeria",
                    "Algeria",
                    "Algeria",
                    "Algeria",
                    "Algeria",
                    "Algeria",
                    "Angola",
                    "Angola",
                    "Angola",
                    "Angola",
                    "Angola",
                    "Angola",
                    "Angola",
                    "Angola",
                    "Angola",
                    "Angola",
                    "Angola",
                    "Angola",
                    "Benin",
                    "Benin",
                    "Benin",
                    "Benin",
                    "Benin",
                    "Benin",
                    "Benin",
                    "Benin",
                    "Benin",
                    "Benin",
                    "Benin",
                    "Benin",
                    "Botswana",
                    "Botswana",
                    "Botswana",
                    "Botswana",
                    "Botswana",
                    "Botswana",
                    "Botswana",
                    "Botswana",
                    "Botswana",
                    "Botswana",
                    "Botswana",
                    "Botswana",
                    "Burkina Faso",
                    "Burkina Faso",
                    "Burkina Faso",
                    "Burkina Faso",
                    "Burkina Faso",
                    "Burkina Faso",
                    "Burkina Faso",
                    "Burkina Faso",
                    "Burkina Faso",
                    "Burkina Faso",
                    "Burkina Faso",
                    "Burkina Faso",
                    "Burundi",
                    "Burundi",
                    "Burundi",
                    "Burundi",
                    "Burundi",
                    "Burundi",
                    "Burundi",
                    "Burundi",
                    "Burundi",
                    "Burundi",
                    "Burundi",
                    "Burundi",
                    "Cameroon",
                    "Cameroon",
                    "Cameroon",
                    "Cameroon",
                    "Cameroon",
                    "Cameroon",
                    "Cameroon",
                    "Cameroon",
                    "Cameroon",
                    "Cameroon",
                    "Cameroon",
                    "Cameroon",
                    "Central African Republic",
                    "Central African Republic",
                    "Central African Republic",
                    "Central African Republic",
                    "Central African Republic",
                    "Central African Republic",
                    "Central African Republic",
                    "Central African Republic",
                    "Central African Republic",
                    "Central African Republic",
                    "Central African Republic",
                    "Central African Republic",
                    "Chad",
                    "Chad",
                    "Chad",
                    "Chad",
                    "Chad",
                    "Chad",
                    "Chad",
                    "Chad",
                    "Chad",
                    "Chad",
                    "Chad",
                    "Chad",
                    "Comoros",
                    "Comoros",
                    "Comoros",
                    "Comoros",
                    "Comoros",
                    "Comoros",
                    "Comoros",
                    "Comoros",
                    "Comoros",
                    "Comoros",
                    "Comoros",
                    "Comoros",
                    "Congo, Dem. Rep.",
                    "Congo, Dem. Rep.",
                    "Congo, Dem. Rep.",
                    "Congo, Dem. Rep.",
                    "Congo, Dem. Rep.",
                    "Congo, Dem. Rep.",
                    "Congo, Dem. Rep.",
                    "Congo, Dem. Rep.",
                    "Congo, Dem. Rep.",
                    "Congo, Dem. Rep.",
                    "Congo, Dem. Rep.",
                    "Congo, Dem. Rep.",
                    "Congo, Rep.",
                    "Congo, Rep.",
                    "Congo, Rep.",
                    "Congo, Rep.",
                    "Congo, Rep.",
                    "Congo, Rep.",
                    "Congo, Rep.",
                    "Congo, Rep.",
                    "Congo, Rep.",
                    "Congo, Rep.",
                    "Congo, Rep.",
                    "Congo, Rep.",
                    "Cote d'Ivoire",
                    "Cote d'Ivoire",
                    "Cote d'Ivoire",
                    "Cote d'Ivoire",
                    "Cote d'Ivoire",
                    "Cote d'Ivoire",
                    "Cote d'Ivoire",
                    "Cote d'Ivoire",
                    "Cote d'Ivoire",
                    "Cote d'Ivoire",
                    "Cote d'Ivoire",
                    "Cote d'Ivoire",
                    "Djibouti",
                    "Djibouti",
                    "Djibouti",
                    "Djibouti",
                    "Djibouti",
                    "Djibouti",
                    "Djibouti",
                    "Djibouti",
                    "Djibouti",
                    "Djibouti",
                    "Djibouti",
                    "Djibouti",
                    "Egypt",
                    "Egypt",
                    "Egypt",
                    "Egypt",
                    "Egypt",
                    "Egypt",
                    "Egypt",
                    "Egypt",
                    "Egypt",
                    "Egypt",
                    "Egypt",
                    "Egypt",
                    "Equatorial Guinea",
                    "Equatorial Guinea",
                    "Equatorial Guinea",
                    "Equatorial Guinea",
                    "Equatorial Guinea",
                    "Equatorial Guinea",
                    "Equatorial Guinea",
                    "Equatorial Guinea",
                    "Equatorial Guinea",
                    "Equatorial Guinea",
                    "Equatorial Guinea",
                    "Equatorial Guinea",
                    "Eritrea",
                    "Eritrea",
                    "Eritrea",
                    "Eritrea",
                    "Eritrea",
                    "Eritrea",
                    "Eritrea",
                    "Eritrea",
                    "Eritrea",
                    "Eritrea",
                    "Eritrea",
                    "Eritrea",
                    "Ethiopia",
                    "Ethiopia",
                    "Ethiopia",
                    "Ethiopia",
                    "Ethiopia",
                    "Ethiopia",
                    "Ethiopia",
                    "Ethiopia",
                    "Ethiopia",
                    "Ethiopia",
                    "Ethiopia",
                    "Ethiopia",
                    "Gabon",
                    "Gabon",
                    "Gabon",
                    "Gabon",
                    "Gabon",
                    "Gabon",
                    "Gabon",
                    "Gabon",
                    "Gabon",
                    "Gabon",
                    "Gabon",
                    "Gabon",
                    "Gambia",
                    "Gambia",
                    "Gambia",
                    "Gambia",
                    "Gambia",
                    "Gambia",
                    "Gambia",
                    "Gambia",
                    "Gambia",
                    "Gambia",
                    "Gambia",
                    "Gambia",
                    "Ghana",
                    "Ghana",
                    "Ghana",
                    "Ghana",
                    "Ghana",
                    "Ghana",
                    "Ghana",
                    "Ghana",
                    "Ghana",
                    "Ghana",
                    "Ghana",
                    "Ghana",
                    "Guinea",
                    "Guinea",
                    "Guinea",
                    "Guinea",
                    "Guinea",
                    "Guinea",
                    "Guinea",
                    "Guinea",
                    "Guinea",
                    "Guinea",
                    "Guinea",
                    "Guinea",
                    "Guinea-Bissau",
                    "Guinea-Bissau",
                    "Guinea-Bissau",
                    "Guinea-Bissau",
                    "Guinea-Bissau",
                    "Guinea-Bissau",
                    "Guinea-Bissau",
                    "Guinea-Bissau",
                    "Guinea-Bissau",
                    "Guinea-Bissau",
                    "Guinea-Bissau",
                    "Guinea-Bissau",
                    "Kenya",
                    "Kenya",
                    "Kenya",
                    "Kenya",
                    "Kenya",
                    "Kenya",
                    "Kenya",
                    "Kenya",
                    "Kenya",
                    "Kenya",
                    "Kenya",
                    "Kenya",
                    "Lesotho",
                    "Lesotho",
                    "Lesotho",
                    "Lesotho",
                    "Lesotho",
                    "Lesotho",
                    "Lesotho",
                    "Lesotho",
                    "Lesotho",
                    "Lesotho",
                    "Lesotho",
                    "Lesotho",
                    "Liberia",
                    "Liberia",
                    "Liberia",
                    "Liberia",
                    "Liberia",
                    "Liberia",
                    "Liberia",
                    "Liberia",
                    "Liberia",
                    "Liberia",
                    "Liberia",
                    "Liberia",
                    "Libya",
                    "Libya",
                    "Libya",
                    "Libya",
                    "Libya",
                    "Libya",
                    "Libya",
                    "Libya",
                    "Libya",
                    "Libya",
                    "Libya",
                    "Libya",
                    "Madagascar",
                    "Madagascar",
                    "Madagascar",
                    "Madagascar",
                    "Madagascar",
                    "Madagascar",
                    "Madagascar",
                    "Madagascar",
                    "Madagascar",
                    "Madagascar",
                    "Madagascar",
                    "Madagascar",
                    "Malawi",
                    "Malawi",
                    "Malawi",
                    "Malawi",
                    "Malawi",
                    "Malawi",
                    "Malawi",
                    "Malawi",
                    "Malawi",
                    "Malawi",
                    "Malawi",
                    "Malawi",
                    "Mali",
                    "Mali",
                    "Mali",
                    "Mali",
                    "Mali",
                    "Mali",
                    "Mali",
                    "Mali",
                    "Mali",
                    "Mali",
                    "Mali",
                    "Mali",
                    "Mauritania",
                    "Mauritania",
                    "Mauritania",
                    "Mauritania",
                    "Mauritania",
                    "Mauritania",
                    "Mauritania",
                    "Mauritania",
                    "Mauritania",
                    "Mauritania",
                    "Mauritania",
                    "Mauritania",
                    "Mauritius",
                    "Mauritius",
                    "Mauritius",
                    "Mauritius",
                    "Mauritius",
                    "Mauritius",
                    "Mauritius",
                    "Mauritius",
                    "Mauritius",
                    "Mauritius",
                    "Mauritius",
                    "Mauritius",
                    "Morocco",
                    "Morocco",
                    "Morocco",
                    "Morocco",
                    "Morocco",
                    "Morocco",
                    "Morocco",
                    "Morocco",
                    "Morocco",
                    "Morocco",
                    "Morocco",
                    "Morocco",
                    "Mozambique",
                    "Mozambique",
                    "Mozambique",
                    "Mozambique",
                    "Mozambique",
                    "Mozambique",
                    "Mozambique",
                    "Mozambique",
                    "Mozambique",
                    "Mozambique",
                    "Mozambique",
                    "Mozambique",
                    "Namibia",
                    "Namibia",
                    "Namibia",
                    "Namibia",
                    "Namibia",
                    "Namibia",
                    "Namibia",
                    "Namibia",
                    "Namibia",
                    "Namibia",
                    "Namibia",
                    "Namibia",
                    "Niger",
                    "Niger",
                    "Niger",
                    "Niger",
                    "Niger",
                    "Niger",
                    "Niger",
                    "Niger",
                    "Niger",
                    "Niger",
                    "Niger",
                    "Niger",
                    "Nigeria",
                    "Nigeria",
                    "Nigeria",
                    "Nigeria",
                    "Nigeria",
                    "Nigeria",
                    "Nigeria",
                    "Nigeria",
                    "Nigeria",
                    "Nigeria",
                    "Nigeria",
                    "Nigeria",
                    "Reunion",
                    "Reunion",
                    "Reunion",
                    "Reunion",
                    "Reunion",
                    "Reunion",
                    "Reunion",
                    "Reunion",
                    "Reunion",
                    "Reunion",
                    "Reunion",
                    "Reunion",
                    "Rwanda",
                    "Rwanda",
                    "Rwanda",
                    "Rwanda",
                    "Rwanda",
                    "Rwanda",
                    "Rwanda",
                    "Rwanda",
                    "Rwanda",
                    "Rwanda",
                    "Rwanda",
                    "Rwanda",
                    "Sao Tome and Principe",
                    "Sao Tome and Principe",
                    "Sao Tome and Principe",
                    "Sao Tome and Principe",
                    "Sao Tome and Principe",
                    "Sao Tome and Principe",
                    "Sao Tome and Principe",
                    "Sao Tome and Principe",
                    "Sao Tome and Principe",
                    "Sao Tome and Principe",
                    "Sao Tome and Principe",
                    "Sao Tome and Principe",
                    "Senegal",
                    "Senegal",
                    "Senegal",
                    "Senegal",
                    "Senegal",
                    "Senegal",
                    "Senegal",
                    "Senegal",
                    "Senegal",
                    "Senegal",
                    "Senegal",
                    "Senegal",
                    "Sierra Leone",
                    "Sierra Leone",
                    "Sierra Leone",
                    "Sierra Leone",
                    "Sierra Leone",
                    "Sierra Leone",
                    "Sierra Leone",
                    "Sierra Leone",
                    "Sierra Leone",
                    "Sierra Leone",
                    "Sierra Leone",
                    "Sierra Leone",
                    "Somalia",
                    "Somalia",
                    "Somalia",
                    "Somalia",
                    "Somalia",
                    "Somalia",
                    "Somalia",
                    "Somalia",
                    "Somalia",
                    "Somalia",
                    "Somalia",
                    "Somalia",
                    "South Africa",
                    "South Africa",
                    "South Africa",
                    "South Africa",
                    "South Africa",
                    "South Africa",
                    "South Africa",
                    "South Africa",
                    "South Africa",
                    "South Africa",
                    "South Africa",
                    "South Africa",
                    "Sudan",
                    "Sudan",
                    "Sudan",
                    "Sudan",
                    "Sudan",
                    "Sudan",
                    "Sudan",
                    "Sudan",
                    "Sudan",
                    "Sudan",
                    "Sudan",
                    "Sudan",
                    "Swaziland",
                    "Swaziland",
                    "Swaziland",
                    "Swaziland",
                    "Swaziland",
                    "Swaziland",
                    "Swaziland",
                    "Swaziland",
                    "Swaziland",
                    "Swaziland",
                    "Swaziland",
                    "Swaziland",
                    "Tanzania",
                    "Tanzania",
                    "Tanzania",
                    "Tanzania",
                    "Tanzania",
                    "Tanzania",
                    "Tanzania",
                    "Tanzania",
                    "Tanzania",
                    "Tanzania",
                    "Tanzania",
                    "Tanzania",
                    "Togo",
                    "Togo",
                    "Togo",
                    "Togo",
                    "Togo",
                    "Togo",
                    "Togo",
                    "Togo",
                    "Togo",
                    "Togo",
                    "Togo",
                    "Togo",
                    "Tunisia",
                    "Tunisia",
                    "Tunisia",
                    "Tunisia",
                    "Tunisia",
                    "Tunisia",
                    "Tunisia",
                    "Tunisia",
                    "Tunisia",
                    "Tunisia",
                    "Tunisia",
                    "Tunisia",
                    "Uganda",
                    "Uganda",
                    "Uganda",
                    "Uganda",
                    "Uganda",
                    "Uganda",
                    "Uganda",
                    "Uganda",
                    "Uganda",
                    "Uganda",
                    "Uganda",
                    "Uganda",
                    "Zambia",
                    "Zambia",
                    "Zambia",
                    "Zambia",
                    "Zambia",
                    "Zambia",
                    "Zambia",
                    "Zambia",
                    "Zambia",
                    "Zambia",
                    "Zambia",
                    "Zambia",
                    "Zimbabwe",
                    "Zimbabwe",
                    "Zimbabwe",
                    "Zimbabwe",
                    "Zimbabwe",
                    "Zimbabwe",
                    "Zimbabwe",
                    "Zimbabwe",
                    "Zimbabwe",
                    "Zimbabwe",
                    "Zimbabwe",
                    "Zimbabwe"
                  ],
                  "x0": " ",
                  "xaxis": "x",
                  "y": [
                    43.077,
                    45.685,
                    48.303,
                    51.407,
                    54.518,
                    58.014,
                    61.368,
                    65.79899999999999,
                    67.744,
                    69.152,
                    70.994,
                    72.301,
                    30.015,
                    31.999,
                    34,
                    35.985,
                    37.928,
                    39.483,
                    39.942,
                    39.906,
                    40.647,
                    40.963,
                    41.003,
                    42.731,
                    38.223,
                    40.358,
                    42.618,
                    44.885,
                    47.014,
                    49.19,
                    50.904,
                    52.337,
                    53.919,
                    54.777,
                    54.40600000000001,
                    56.728,
                    47.622,
                    49.618,
                    51.52,
                    53.298,
                    56.024,
                    59.319,
                    61.484,
                    63.622,
                    62.745,
                    52.556,
                    46.63399999999999,
                    50.728,
                    31.975,
                    34.906,
                    37.814,
                    40.697,
                    43.591,
                    46.137,
                    48.122,
                    49.557,
                    50.26,
                    50.324,
                    50.65,
                    52.295,
                    39.031,
                    40.533,
                    42.045,
                    43.548,
                    44.057,
                    45.91,
                    47.471,
                    48.21100000000001,
                    44.736,
                    45.326,
                    47.36,
                    49.58,
                    38.523,
                    40.428,
                    42.643,
                    44.799,
                    47.049,
                    49.355,
                    52.96100000000001,
                    54.985,
                    54.31399999999999,
                    52.199,
                    49.856,
                    50.43,
                    35.463,
                    37.464,
                    39.475,
                    41.478,
                    43.457,
                    46.775,
                    48.295,
                    50.485,
                    49.396,
                    46.066,
                    43.308,
                    44.74100000000001,
                    38.092,
                    39.881,
                    41.716,
                    43.601000000000006,
                    45.569,
                    47.383,
                    49.517,
                    51.051,
                    51.724,
                    51.573,
                    50.525,
                    50.651,
                    40.715,
                    42.46,
                    44.467,
                    46.472,
                    48.944,
                    50.93899999999999,
                    52.933,
                    54.926,
                    57.93899999999999,
                    60.66,
                    62.974,
                    65.152,
                    39.143,
                    40.652,
                    42.122,
                    44.056,
                    45.989,
                    47.804,
                    47.784,
                    47.412,
                    45.548,
                    42.587,
                    44.966,
                    46.462,
                    42.111,
                    45.053,
                    48.435,
                    52.04,
                    54.907,
                    55.625,
                    56.695,
                    57.47,
                    56.433,
                    52.962,
                    52.97,
                    55.322,
                    40.477,
                    42.469,
                    44.93,
                    47.35,
                    49.801,
                    52.374,
                    53.983,
                    54.655,
                    52.044,
                    47.99100000000001,
                    46.832,
                    48.328,
                    34.812,
                    37.328,
                    39.69300000000001,
                    42.074,
                    44.36600000000001,
                    46.519,
                    48.812,
                    50.04,
                    51.604,
                    53.157,
                    53.37300000000001,
                    54.791,
                    41.893,
                    44.444,
                    46.992,
                    49.293,
                    51.137,
                    53.319,
                    56.006,
                    59.797,
                    63.674,
                    67.217,
                    69.806,
                    71.33800000000002,
                    34.482,
                    35.98300000000001,
                    37.485,
                    38.987,
                    40.516,
                    42.024,
                    43.662,
                    45.664,
                    47.545,
                    48.245,
                    49.348,
                    51.57899999999999,
                    35.92800000000001,
                    38.047,
                    40.158,
                    42.18899999999999,
                    44.142,
                    44.535,
                    43.89,
                    46.453,
                    49.99100000000001,
                    53.378,
                    55.24,
                    58.04,
                    34.078,
                    36.667,
                    40.059,
                    42.115,
                    43.515,
                    44.51,
                    44.916,
                    46.684,
                    48.091,
                    49.402,
                    50.725,
                    52.947,
                    37.003,
                    38.999,
                    40.489,
                    44.598,
                    48.69,
                    52.79,
                    56.56399999999999,
                    60.19,
                    61.36600000000001,
                    60.46100000000001,
                    56.761,
                    56.735,
                    30,
                    32.065,
                    33.896,
                    35.857,
                    38.308,
                    41.842,
                    45.58,
                    49.265,
                    52.644,
                    55.861,
                    58.041,
                    59.448,
                    43.149,
                    44.779,
                    46.452,
                    48.072,
                    49.875,
                    51.756,
                    53.744,
                    55.729,
                    57.50100000000001,
                    58.556,
                    58.453,
                    60.022,
                    33.609,
                    34.558,
                    35.753,
                    37.197,
                    38.842,
                    40.762,
                    42.89100000000001,
                    45.552,
                    48.576,
                    51.455,
                    53.676,
                    56.007,
                    32.5,
                    33.489000000000004,
                    34.488,
                    35.492,
                    36.486,
                    37.465,
                    39.327,
                    41.245,
                    43.26600000000001,
                    44.87300000000001,
                    45.504,
                    46.38800000000001,
                    42.27,
                    44.68600000000001,
                    47.949,
                    50.654,
                    53.559,
                    56.155,
                    58.76600000000001,
                    59.339,
                    59.285,
                    54.407,
                    50.992,
                    54.11,
                    42.13800000000001,
                    45.047,
                    47.747,
                    48.492,
                    49.767,
                    52.208,
                    55.078,
                    57.18,
                    59.685,
                    55.558,
                    44.593,
                    42.592,
                    38.48,
                    39.486,
                    40.502,
                    41.536,
                    42.614,
                    43.764,
                    44.852,
                    46.027,
                    40.802,
                    42.221,
                    43.753,
                    45.678,
                    42.723,
                    45.289,
                    47.808,
                    50.227,
                    52.773,
                    57.442,
                    62.155,
                    66.234,
                    68.755,
                    71.555,
                    72.737,
                    73.952,
                    36.681,
                    38.865,
                    40.848,
                    42.881,
                    44.851000000000006,
                    46.881,
                    48.969,
                    49.35,
                    52.214,
                    54.978,
                    57.286,
                    59.44300000000001,
                    36.256,
                    37.207,
                    38.41,
                    39.487,
                    41.76600000000001,
                    43.767,
                    45.642,
                    47.457,
                    49.42,
                    47.495,
                    45.00899999999999,
                    48.303,
                    33.685,
                    35.30699999999999,
                    36.936,
                    38.487,
                    39.977,
                    41.714,
                    43.916,
                    46.364,
                    48.38800000000001,
                    49.903,
                    51.81800000000001,
                    54.467,
                    40.543,
                    42.338,
                    44.24800000000001,
                    46.289,
                    48.437,
                    50.852,
                    53.599,
                    56.145,
                    58.333,
                    60.43,
                    62.247,
                    64.164,
                    50.986,
                    58.089,
                    60.246,
                    61.557,
                    62.944,
                    64.93,
                    66.711,
                    68.74,
                    69.745,
                    70.736,
                    71.954,
                    72.801,
                    42.87300000000001,
                    45.423,
                    47.924,
                    50.335,
                    52.862,
                    55.73,
                    59.65,
                    62.677,
                    65.393,
                    67.66,
                    69.615,
                    71.164,
                    31.286,
                    33.779,
                    36.161,
                    38.113,
                    40.328,
                    42.495,
                    42.795,
                    42.861,
                    44.284,
                    46.344,
                    44.026,
                    42.082,
                    41.725,
                    45.226000000000006,
                    48.386,
                    51.159,
                    53.867,
                    56.437,
                    58.968,
                    60.835,
                    61.999,
                    58.909,
                    51.479,
                    52.90600000000001,
                    37.444,
                    38.598,
                    39.487,
                    40.118,
                    40.546,
                    41.291,
                    42.598,
                    44.555,
                    47.39100000000001,
                    51.313,
                    54.496,
                    56.867,
                    36.324,
                    37.802,
                    39.36,
                    41.04,
                    42.82100000000001,
                    44.514,
                    45.826,
                    46.886,
                    47.472,
                    47.464,
                    46.608,
                    46.859,
                    52.724,
                    55.09,
                    57.666,
                    60.542,
                    64.274,
                    67.064,
                    69.885,
                    71.913,
                    73.615,
                    74.77199999999998,
                    75.744,
                    76.442,
                    40,
                    41.5,
                    43,
                    44.1,
                    44.6,
                    45,
                    46.218,
                    44.02,
                    23.599,
                    36.087,
                    43.413,
                    46.242,
                    46.471,
                    48.945,
                    51.893,
                    54.425,
                    56.48,
                    58.55,
                    60.351000000000006,
                    61.728,
                    62.742,
                    63.306,
                    64.337,
                    65.528,
                    37.278,
                    39.329,
                    41.45399999999999,
                    43.563,
                    45.815,
                    48.879,
                    52.379,
                    55.769,
                    58.19600000000001,
                    60.187,
                    61.6,
                    63.062,
                    30.331,
                    31.57,
                    32.767,
                    34.113,
                    35.4,
                    36.788,
                    38.445,
                    40.006,
                    38.333,
                    39.897,
                    41.012,
                    42.56800000000001,
                    32.978,
                    34.977,
                    36.981,
                    38.977,
                    40.973,
                    41.974,
                    42.955,
                    44.50100000000001,
                    39.658,
                    43.795,
                    45.93600000000001,
                    48.159,
                    45.00899999999999,
                    47.985,
                    49.951,
                    51.927,
                    53.69600000000001,
                    55.527,
                    58.161,
                    60.834,
                    61.88800000000001,
                    60.236,
                    53.365,
                    49.339,
                    38.635,
                    39.624,
                    40.87,
                    42.858,
                    45.083,
                    47.8,
                    50.338,
                    51.744,
                    53.556,
                    55.37300000000001,
                    56.369,
                    58.556,
                    41.407,
                    43.424,
                    44.992,
                    46.633,
                    49.552,
                    52.537,
                    55.56100000000001,
                    57.678,
                    58.474,
                    54.289,
                    43.869,
                    39.613,
                    41.215,
                    42.974,
                    44.246,
                    45.757,
                    47.62,
                    49.919,
                    50.608,
                    51.535,
                    50.44,
                    48.466,
                    49.651,
                    52.517,
                    38.596,
                    41.208,
                    43.922,
                    46.769,
                    49.75899999999999,
                    52.887,
                    55.471,
                    56.941,
                    58.06100000000001,
                    58.39,
                    57.56100000000001,
                    58.42,
                    44.6,
                    47.1,
                    49.57899999999999,
                    52.053,
                    55.602,
                    59.837,
                    64.048,
                    66.89399999999999,
                    70.001,
                    71.973,
                    73.042,
                    73.923,
                    39.978,
                    42.57100000000001,
                    45.344,
                    48.051,
                    51.01600000000001,
                    50.35,
                    49.849,
                    51.50899999999999,
                    48.825,
                    44.578,
                    47.813,
                    51.542,
                    42.038,
                    44.077,
                    46.023,
                    47.768,
                    50.107,
                    51.386,
                    51.82100000000001,
                    50.82100000000001,
                    46.1,
                    40.238,
                    39.19300000000001,
                    42.38399999999999,
                    48.451,
                    50.469,
                    52.358,
                    53.995,
                    55.635,
                    57.674,
                    60.363,
                    62.351000000000006,
                    60.377,
                    46.809,
                    39.989,
                    43.487
                  ],
                  "y0": " ",
                  "yaxis": "y"
                }
              ],
              "layout": {
                "boxmode": "group",
                "legend": {
                  "tracegroupgap": 0
                },
                "template": {
                  "data": {
                    "bar": [
                      {
                        "error_x": {
                          "color": "#2a3f5f"
                        },
                        "error_y": {
                          "color": "#2a3f5f"
                        },
                        "marker": {
                          "line": {
                            "color": "#E5ECF6",
                            "width": 0.5
                          },
                          "pattern": {
                            "fillmode": "overlay",
                            "size": 10,
                            "solidity": 0.2
                          }
                        },
                        "type": "bar"
                      }
                    ],
                    "barpolar": [
                      {
                        "marker": {
                          "line": {
                            "color": "#E5ECF6",
                            "width": 0.5
                          },
                          "pattern": {
                            "fillmode": "overlay",
                            "size": 10,
                            "solidity": 0.2
                          }
                        },
                        "type": "barpolar"
                      }
                    ],
                    "carpet": [
                      {
                        "aaxis": {
                          "endlinecolor": "#2a3f5f",
                          "gridcolor": "white",
                          "linecolor": "white",
                          "minorgridcolor": "white",
                          "startlinecolor": "#2a3f5f"
                        },
                        "baxis": {
                          "endlinecolor": "#2a3f5f",
                          "gridcolor": "white",
                          "linecolor": "white",
                          "minorgridcolor": "white",
                          "startlinecolor": "#2a3f5f"
                        },
                        "type": "carpet"
                      }
                    ],
                    "choropleth": [
                      {
                        "colorbar": {
                          "outlinewidth": 0,
                          "ticks": ""
                        },
                        "type": "choropleth"
                      }
                    ],
                    "contour": [
                      {
                        "colorbar": {
                          "outlinewidth": 0,
                          "ticks": ""
                        },
                        "colorscale": [
                          [
                            0,
                            "#0d0887"
                          ],
                          [
                            0.1111111111111111,
                            "#46039f"
                          ],
                          [
                            0.2222222222222222,
                            "#7201a8"
                          ],
                          [
                            0.3333333333333333,
                            "#9c179e"
                          ],
                          [
                            0.4444444444444444,
                            "#bd3786"
                          ],
                          [
                            0.5555555555555556,
                            "#d8576b"
                          ],
                          [
                            0.6666666666666666,
                            "#ed7953"
                          ],
                          [
                            0.7777777777777778,
                            "#fb9f3a"
                          ],
                          [
                            0.8888888888888888,
                            "#fdca26"
                          ],
                          [
                            1,
                            "#f0f921"
                          ]
                        ],
                        "type": "contour"
                      }
                    ],
                    "contourcarpet": [
                      {
                        "colorbar": {
                          "outlinewidth": 0,
                          "ticks": ""
                        },
                        "type": "contourcarpet"
                      }
                    ],
                    "heatmap": [
                      {
                        "colorbar": {
                          "outlinewidth": 0,
                          "ticks": ""
                        },
                        "colorscale": [
                          [
                            0,
                            "#0d0887"
                          ],
                          [
                            0.1111111111111111,
                            "#46039f"
                          ],
                          [
                            0.2222222222222222,
                            "#7201a8"
                          ],
                          [
                            0.3333333333333333,
                            "#9c179e"
                          ],
                          [
                            0.4444444444444444,
                            "#bd3786"
                          ],
                          [
                            0.5555555555555556,
                            "#d8576b"
                          ],
                          [
                            0.6666666666666666,
                            "#ed7953"
                          ],
                          [
                            0.7777777777777778,
                            "#fb9f3a"
                          ],
                          [
                            0.8888888888888888,
                            "#fdca26"
                          ],
                          [
                            1,
                            "#f0f921"
                          ]
                        ],
                        "type": "heatmap"
                      }
                    ],
                    "heatmapgl": [
                      {
                        "colorbar": {
                          "outlinewidth": 0,
                          "ticks": ""
                        },
                        "colorscale": [
                          [
                            0,
                            "#0d0887"
                          ],
                          [
                            0.1111111111111111,
                            "#46039f"
                          ],
                          [
                            0.2222222222222222,
                            "#7201a8"
                          ],
                          [
                            0.3333333333333333,
                            "#9c179e"
                          ],
                          [
                            0.4444444444444444,
                            "#bd3786"
                          ],
                          [
                            0.5555555555555556,
                            "#d8576b"
                          ],
                          [
                            0.6666666666666666,
                            "#ed7953"
                          ],
                          [
                            0.7777777777777778,
                            "#fb9f3a"
                          ],
                          [
                            0.8888888888888888,
                            "#fdca26"
                          ],
                          [
                            1,
                            "#f0f921"
                          ]
                        ],
                        "type": "heatmapgl"
                      }
                    ],
                    "histogram": [
                      {
                        "marker": {
                          "pattern": {
                            "fillmode": "overlay",
                            "size": 10,
                            "solidity": 0.2
                          }
                        },
                        "type": "histogram"
                      }
                    ],
                    "histogram2d": [
                      {
                        "colorbar": {
                          "outlinewidth": 0,
                          "ticks": ""
                        },
                        "colorscale": [
                          [
                            0,
                            "#0d0887"
                          ],
                          [
                            0.1111111111111111,
                            "#46039f"
                          ],
                          [
                            0.2222222222222222,
                            "#7201a8"
                          ],
                          [
                            0.3333333333333333,
                            "#9c179e"
                          ],
                          [
                            0.4444444444444444,
                            "#bd3786"
                          ],
                          [
                            0.5555555555555556,
                            "#d8576b"
                          ],
                          [
                            0.6666666666666666,
                            "#ed7953"
                          ],
                          [
                            0.7777777777777778,
                            "#fb9f3a"
                          ],
                          [
                            0.8888888888888888,
                            "#fdca26"
                          ],
                          [
                            1,
                            "#f0f921"
                          ]
                        ],
                        "type": "histogram2d"
                      }
                    ],
                    "histogram2dcontour": [
                      {
                        "colorbar": {
                          "outlinewidth": 0,
                          "ticks": ""
                        },
                        "colorscale": [
                          [
                            0,
                            "#0d0887"
                          ],
                          [
                            0.1111111111111111,
                            "#46039f"
                          ],
                          [
                            0.2222222222222222,
                            "#7201a8"
                          ],
                          [
                            0.3333333333333333,
                            "#9c179e"
                          ],
                          [
                            0.4444444444444444,
                            "#bd3786"
                          ],
                          [
                            0.5555555555555556,
                            "#d8576b"
                          ],
                          [
                            0.6666666666666666,
                            "#ed7953"
                          ],
                          [
                            0.7777777777777778,
                            "#fb9f3a"
                          ],
                          [
                            0.8888888888888888,
                            "#fdca26"
                          ],
                          [
                            1,
                            "#f0f921"
                          ]
                        ],
                        "type": "histogram2dcontour"
                      }
                    ],
                    "mesh3d": [
                      {
                        "colorbar": {
                          "outlinewidth": 0,
                          "ticks": ""
                        },
                        "type": "mesh3d"
                      }
                    ],
                    "parcoords": [
                      {
                        "line": {
                          "colorbar": {
                            "outlinewidth": 0,
                            "ticks": ""
                          }
                        },
                        "type": "parcoords"
                      }
                    ],
                    "pie": [
                      {
                        "automargin": true,
                        "type": "pie"
                      }
                    ],
                    "scatter": [
                      {
                        "fillpattern": {
                          "fillmode": "overlay",
                          "size": 10,
                          "solidity": 0.2
                        },
                        "type": "scatter"
                      }
                    ],
                    "scatter3d": [
                      {
                        "line": {
                          "colorbar": {
                            "outlinewidth": 0,
                            "ticks": ""
                          }
                        },
                        "marker": {
                          "colorbar": {
                            "outlinewidth": 0,
                            "ticks": ""
                          }
                        },
                        "type": "scatter3d"
                      }
                    ],
                    "scattercarpet": [
                      {
                        "marker": {
                          "colorbar": {
                            "outlinewidth": 0,
                            "ticks": ""
                          }
                        },
                        "type": "scattercarpet"
                      }
                    ],
                    "scattergeo": [
                      {
                        "marker": {
                          "colorbar": {
                            "outlinewidth": 0,
                            "ticks": ""
                          }
                        },
                        "type": "scattergeo"
                      }
                    ],
                    "scattergl": [
                      {
                        "marker": {
                          "colorbar": {
                            "outlinewidth": 0,
                            "ticks": ""
                          }
                        },
                        "type": "scattergl"
                      }
                    ],
                    "scattermapbox": [
                      {
                        "marker": {
                          "colorbar": {
                            "outlinewidth": 0,
                            "ticks": ""
                          }
                        },
                        "type": "scattermapbox"
                      }
                    ],
                    "scatterpolar": [
                      {
                        "marker": {
                          "colorbar": {
                            "outlinewidth": 0,
                            "ticks": ""
                          }
                        },
                        "type": "scatterpolar"
                      }
                    ],
                    "scatterpolargl": [
                      {
                        "marker": {
                          "colorbar": {
                            "outlinewidth": 0,
                            "ticks": ""
                          }
                        },
                        "type": "scatterpolargl"
                      }
                    ],
                    "scatterternary": [
                      {
                        "marker": {
                          "colorbar": {
                            "outlinewidth": 0,
                            "ticks": ""
                          }
                        },
                        "type": "scatterternary"
                      }
                    ],
                    "surface": [
                      {
                        "colorbar": {
                          "outlinewidth": 0,
                          "ticks": ""
                        },
                        "colorscale": [
                          [
                            0,
                            "#0d0887"
                          ],
                          [
                            0.1111111111111111,
                            "#46039f"
                          ],
                          [
                            0.2222222222222222,
                            "#7201a8"
                          ],
                          [
                            0.3333333333333333,
                            "#9c179e"
                          ],
                          [
                            0.4444444444444444,
                            "#bd3786"
                          ],
                          [
                            0.5555555555555556,
                            "#d8576b"
                          ],
                          [
                            0.6666666666666666,
                            "#ed7953"
                          ],
                          [
                            0.7777777777777778,
                            "#fb9f3a"
                          ],
                          [
                            0.8888888888888888,
                            "#fdca26"
                          ],
                          [
                            1,
                            "#f0f921"
                          ]
                        ],
                        "type": "surface"
                      }
                    ],
                    "table": [
                      {
                        "cells": {
                          "fill": {
                            "color": "#EBF0F8"
                          },
                          "line": {
                            "color": "white"
                          }
                        },
                        "header": {
                          "fill": {
                            "color": "#C8D4E3"
                          },
                          "line": {
                            "color": "white"
                          }
                        },
                        "type": "table"
                      }
                    ]
                  },
                  "layout": {
                    "annotationdefaults": {
                      "arrowcolor": "#2a3f5f",
                      "arrowhead": 0,
                      "arrowwidth": 1
                    },
                    "autotypenumbers": "strict",
                    "coloraxis": {
                      "colorbar": {
                        "outlinewidth": 0,
                        "ticks": ""
                      }
                    },
                    "colorscale": {
                      "diverging": [
                        [
                          0,
                          "#8e0152"
                        ],
                        [
                          0.1,
                          "#c51b7d"
                        ],
                        [
                          0.2,
                          "#de77ae"
                        ],
                        [
                          0.3,
                          "#f1b6da"
                        ],
                        [
                          0.4,
                          "#fde0ef"
                        ],
                        [
                          0.5,
                          "#f7f7f7"
                        ],
                        [
                          0.6,
                          "#e6f5d0"
                        ],
                        [
                          0.7,
                          "#b8e186"
                        ],
                        [
                          0.8,
                          "#7fbc41"
                        ],
                        [
                          0.9,
                          "#4d9221"
                        ],
                        [
                          1,
                          "#276419"
                        ]
                      ],
                      "sequential": [
                        [
                          0,
                          "#0d0887"
                        ],
                        [
                          0.1111111111111111,
                          "#46039f"
                        ],
                        [
                          0.2222222222222222,
                          "#7201a8"
                        ],
                        [
                          0.3333333333333333,
                          "#9c179e"
                        ],
                        [
                          0.4444444444444444,
                          "#bd3786"
                        ],
                        [
                          0.5555555555555556,
                          "#d8576b"
                        ],
                        [
                          0.6666666666666666,
                          "#ed7953"
                        ],
                        [
                          0.7777777777777778,
                          "#fb9f3a"
                        ],
                        [
                          0.8888888888888888,
                          "#fdca26"
                        ],
                        [
                          1,
                          "#f0f921"
                        ]
                      ],
                      "sequentialminus": [
                        [
                          0,
                          "#0d0887"
                        ],
                        [
                          0.1111111111111111,
                          "#46039f"
                        ],
                        [
                          0.2222222222222222,
                          "#7201a8"
                        ],
                        [
                          0.3333333333333333,
                          "#9c179e"
                        ],
                        [
                          0.4444444444444444,
                          "#bd3786"
                        ],
                        [
                          0.5555555555555556,
                          "#d8576b"
                        ],
                        [
                          0.6666666666666666,
                          "#ed7953"
                        ],
                        [
                          0.7777777777777778,
                          "#fb9f3a"
                        ],
                        [
                          0.8888888888888888,
                          "#fdca26"
                        ],
                        [
                          1,
                          "#f0f921"
                        ]
                      ]
                    },
                    "colorway": [
                      "#636efa",
                      "#EF553B",
                      "#00cc96",
                      "#ab63fa",
                      "#FFA15A",
                      "#19d3f3",
                      "#FF6692",
                      "#B6E880",
                      "#FF97FF",
                      "#FECB52"
                    ],
                    "font": {
                      "color": "#2a3f5f"
                    },
                    "geo": {
                      "bgcolor": "white",
                      "lakecolor": "white",
                      "landcolor": "#E5ECF6",
                      "showlakes": true,
                      "showland": true,
                      "subunitcolor": "white"
                    },
                    "hoverlabel": {
                      "align": "left"
                    },
                    "hovermode": "closest",
                    "mapbox": {
                      "style": "light"
                    },
                    "paper_bgcolor": "white",
                    "plot_bgcolor": "#E5ECF6",
                    "polar": {
                      "angularaxis": {
                        "gridcolor": "white",
                        "linecolor": "white",
                        "ticks": ""
                      },
                      "bgcolor": "#E5ECF6",
                      "radialaxis": {
                        "gridcolor": "white",
                        "linecolor": "white",
                        "ticks": ""
                      }
                    },
                    "scene": {
                      "xaxis": {
                        "backgroundcolor": "#E5ECF6",
                        "gridcolor": "white",
                        "gridwidth": 2,
                        "linecolor": "white",
                        "showbackground": true,
                        "ticks": "",
                        "zerolinecolor": "white"
                      },
                      "yaxis": {
                        "backgroundcolor": "#E5ECF6",
                        "gridcolor": "white",
                        "gridwidth": 2,
                        "linecolor": "white",
                        "showbackground": true,
                        "ticks": "",
                        "zerolinecolor": "white"
                      },
                      "zaxis": {
                        "backgroundcolor": "#E5ECF6",
                        "gridcolor": "white",
                        "gridwidth": 2,
                        "linecolor": "white",
                        "showbackground": true,
                        "ticks": "",
                        "zerolinecolor": "white"
                      }
                    },
                    "shapedefaults": {
                      "line": {
                        "color": "#2a3f5f"
                      }
                    },
                    "ternary": {
                      "aaxis": {
                        "gridcolor": "white",
                        "linecolor": "white",
                        "ticks": ""
                      },
                      "baxis": {
                        "gridcolor": "white",
                        "linecolor": "white",
                        "ticks": ""
                      },
                      "bgcolor": "#E5ECF6",
                      "caxis": {
                        "gridcolor": "white",
                        "linecolor": "white",
                        "ticks": ""
                      }
                    },
                    "title": {
                      "x": 0.05
                    },
                    "xaxis": {
                      "automargin": true,
                      "gridcolor": "white",
                      "linecolor": "white",
                      "ticks": "",
                      "title": {
                        "standoff": 15
                      },
                      "zerolinecolor": "white",
                      "zerolinewidth": 2
                    },
                    "yaxis": {
                      "automargin": true,
                      "gridcolor": "white",
                      "linecolor": "white",
                      "ticks": "",
                      "title": {
                        "standoff": 15
                      },
                      "zerolinecolor": "white",
                      "zerolinewidth": 2
                    }
                  }
                },
                "title": {
                  "text": "Life Expectancy Distribution in Africa"
                },
                "xaxis": {
                  "anchor": "y",
                  "domain": [
                    0,
                    1
                  ],
                  "title": {
                    "text": "country"
                  }
                },
                "yaxis": {
                  "anchor": "x",
                  "domain": [
                    0,
                    1
                  ],
                  "title": {
                    "text": "lifeExp"
                  }
                }
              }
            }
          },
          "metadata": {},
          "output_type": "display_data"
        }
      ],
      "source": [
        "continent = 'Africa'\n",
        "df_continent = df[df['continent'] == continent]\n",
        "fig = px.box(df_continent, x='country', y='lifeExp', title='Life Expectancy Distribution in Africa')\n",
        "fig.show()"
      ]
    },
    {
      "attachments": {},
      "cell_type": "markdown",
      "id": "79641024",
      "metadata": {},
      "source": [
        "## Comparison of GDP per capita and life expectancy in Africa"
      ]
    },
    {
      "cell_type": "code",
      "execution_count": 12,
      "id": "1457bc8b",
      "metadata": {},
      "outputs": [
        {
          "data": {
            "application/vnd.plotly.v1+json": {
              "config": {
                "plotlyServerURL": "https://plot.ly"
              },
              "data": [
                {
                  "hovertemplate": "country=Algeria<br>gdpPercap=%{x}<br>lifeExp=%{y}<extra></extra>",
                  "legendgroup": "Algeria",
                  "marker": {
                    "color": "#636efa",
                    "symbol": "circle"
                  },
                  "mode": "markers",
                  "name": "Algeria",
                  "orientation": "v",
                  "showlegend": true,
                  "type": "scatter",
                  "x": [
                    2449.008185,
                    3013.976023,
                    2550.81688,
                    3246.991771,
                    4182.663766,
                    4910.416756000001,
                    5745.160213,
                    5681.358539,
                    5023.216647,
                    4797.295051,
                    5288.040382,
                    6223.367465
                  ],
                  "xaxis": "x",
                  "y": [
                    43.077,
                    45.685,
                    48.303,
                    51.407,
                    54.518,
                    58.014,
                    61.368,
                    65.79899999999999,
                    67.744,
                    69.152,
                    70.994,
                    72.301
                  ],
                  "yaxis": "y"
                },
                {
                  "hovertemplate": "country=Angola<br>gdpPercap=%{x}<br>lifeExp=%{y}<extra></extra>",
                  "legendgroup": "Angola",
                  "marker": {
                    "color": "#EF553B",
                    "symbol": "circle"
                  },
                  "mode": "markers",
                  "name": "Angola",
                  "orientation": "v",
                  "showlegend": true,
                  "type": "scatter",
                  "x": [
                    3520.610273,
                    3827.940465,
                    4269.276742,
                    5522.776375,
                    5473.288004999999,
                    3008.647355,
                    2756.953672,
                    2430.208311,
                    2627.845685,
                    2277.140884,
                    2773.287312,
                    4797.231267
                  ],
                  "xaxis": "x",
                  "y": [
                    30.015,
                    31.999,
                    34,
                    35.985,
                    37.928,
                    39.483,
                    39.942,
                    39.906,
                    40.647,
                    40.963,
                    41.003,
                    42.731
                  ],
                  "yaxis": "y"
                },
                {
                  "hovertemplate": "country=Benin<br>gdpPercap=%{x}<br>lifeExp=%{y}<extra></extra>",
                  "legendgroup": "Benin",
                  "marker": {
                    "color": "#00cc96",
                    "symbol": "circle"
                  },
                  "mode": "markers",
                  "name": "Benin",
                  "orientation": "v",
                  "showlegend": true,
                  "type": "scatter",
                  "x": [
                    1062.7522,
                    959.6010805,
                    949.4990641,
                    1035.831411,
                    1085.796879,
                    1029.161251,
                    1277.897616,
                    1225.85601,
                    1191.207681,
                    1232.975292,
                    1372.877931,
                    1441.284873
                  ],
                  "xaxis": "x",
                  "y": [
                    38.223,
                    40.358,
                    42.618,
                    44.885,
                    47.014,
                    49.19,
                    50.904,
                    52.337,
                    53.919,
                    54.777,
                    54.40600000000001,
                    56.728
                  ],
                  "yaxis": "y"
                },
                {
                  "hovertemplate": "country=Botswana<br>gdpPercap=%{x}<br>lifeExp=%{y}<extra></extra>",
                  "legendgroup": "Botswana",
                  "marker": {
                    "color": "#ab63fa",
                    "symbol": "circle"
                  },
                  "mode": "markers",
                  "name": "Botswana",
                  "orientation": "v",
                  "showlegend": true,
                  "type": "scatter",
                  "x": [
                    851.2411407,
                    918.2325349,
                    983.6539764,
                    1214.709294,
                    2263.6111140000007,
                    3214.857818,
                    4551.14215,
                    6205.88385,
                    7954.111645,
                    8647.142313,
                    11003.60508,
                    12569.85177
                  ],
                  "xaxis": "x",
                  "y": [
                    47.622,
                    49.618,
                    51.52,
                    53.298,
                    56.024,
                    59.319,
                    61.484,
                    63.622,
                    62.745,
                    52.556,
                    46.63399999999999,
                    50.728
                  ],
                  "yaxis": "y"
                },
                {
                  "hovertemplate": "country=Burkina Faso<br>gdpPercap=%{x}<br>lifeExp=%{y}<extra></extra>",
                  "legendgroup": "Burkina Faso",
                  "marker": {
                    "color": "#FFA15A",
                    "symbol": "circle"
                  },
                  "mode": "markers",
                  "name": "Burkina Faso",
                  "orientation": "v",
                  "showlegend": true,
                  "type": "scatter",
                  "x": [
                    543.2552413,
                    617.1834647999998,
                    722.5120206,
                    794.8265597,
                    854.7359763000002,
                    743.3870368,
                    807.1985855,
                    912.0631417,
                    931.7527731,
                    946.2949618,
                    1037.645221,
                    1217.032994
                  ],
                  "xaxis": "x",
                  "y": [
                    31.975,
                    34.906,
                    37.814,
                    40.697,
                    43.591,
                    46.137,
                    48.122,
                    49.557,
                    50.26,
                    50.324,
                    50.65,
                    52.295
                  ],
                  "yaxis": "y"
                },
                {
                  "hovertemplate": "country=Burundi<br>gdpPercap=%{x}<br>lifeExp=%{y}<extra></extra>",
                  "legendgroup": "Burundi",
                  "marker": {
                    "color": "#19d3f3",
                    "symbol": "circle"
                  },
                  "mode": "markers",
                  "name": "Burundi",
                  "orientation": "v",
                  "showlegend": true,
                  "type": "scatter",
                  "x": [
                    339.2964587,
                    379.5646281000001,
                    355.2032273,
                    412.97751360000007,
                    464.0995039,
                    556.1032651,
                    559.6032309999998,
                    621.8188188999999,
                    631.6998778,
                    463.1151478,
                    446.4035126,
                    430.0706916
                  ],
                  "xaxis": "x",
                  "y": [
                    39.031,
                    40.533,
                    42.045,
                    43.548,
                    44.057,
                    45.91,
                    47.471,
                    48.21100000000001,
                    44.736,
                    45.326,
                    47.36,
                    49.58
                  ],
                  "yaxis": "y"
                },
                {
                  "hovertemplate": "country=Cameroon<br>gdpPercap=%{x}<br>lifeExp=%{y}<extra></extra>",
                  "legendgroup": "Cameroon",
                  "marker": {
                    "color": "#FF6692",
                    "symbol": "circle"
                  },
                  "mode": "markers",
                  "name": "Cameroon",
                  "orientation": "v",
                  "showlegend": true,
                  "type": "scatter",
                  "x": [
                    1172.667655,
                    1313.048099,
                    1399.607441,
                    1508.453148,
                    1684.1465280000002,
                    1783.432873,
                    2367.983282,
                    2602.664206,
                    1793.1632780000002,
                    1694.337469,
                    1934.011449,
                    2042.09524
                  ],
                  "xaxis": "x",
                  "y": [
                    38.523,
                    40.428,
                    42.643,
                    44.799,
                    47.049,
                    49.355,
                    52.96100000000001,
                    54.985,
                    54.31399999999999,
                    52.199,
                    49.856,
                    50.43
                  ],
                  "yaxis": "y"
                },
                {
                  "hovertemplate": "country=Central African Republic<br>gdpPercap=%{x}<br>lifeExp=%{y}<extra></extra>",
                  "legendgroup": "Central African Republic",
                  "marker": {
                    "color": "#B6E880",
                    "symbol": "circle"
                  },
                  "mode": "markers",
                  "name": "Central African Republic",
                  "orientation": "v",
                  "showlegend": true,
                  "type": "scatter",
                  "x": [
                    1071.310713,
                    1190.844328,
                    1193.068753,
                    1136.056615,
                    1070.013275,
                    1109.374338,
                    956.7529907,
                    844.8763504000002,
                    747.9055252,
                    740.5063317,
                    738.6906068,
                    706.016537
                  ],
                  "xaxis": "x",
                  "y": [
                    35.463,
                    37.464,
                    39.475,
                    41.478,
                    43.457,
                    46.775,
                    48.295,
                    50.485,
                    49.396,
                    46.066,
                    43.308,
                    44.74100000000001
                  ],
                  "yaxis": "y"
                },
                {
                  "hovertemplate": "country=Chad<br>gdpPercap=%{x}<br>lifeExp=%{y}<extra></extra>",
                  "legendgroup": "Chad",
                  "marker": {
                    "color": "#FF97FF",
                    "symbol": "circle"
                  },
                  "mode": "markers",
                  "name": "Chad",
                  "orientation": "v",
                  "showlegend": true,
                  "type": "scatter",
                  "x": [
                    1178.665927,
                    1308.495577,
                    1389.817618,
                    1196.810565,
                    1104.103987,
                    1133.98495,
                    797.9081006,
                    952.386129,
                    1058.0643,
                    1004.961353,
                    1156.18186,
                    1704.063724
                  ],
                  "xaxis": "x",
                  "y": [
                    38.092,
                    39.881,
                    41.716,
                    43.601000000000006,
                    45.569,
                    47.383,
                    49.517,
                    51.051,
                    51.724,
                    51.573,
                    50.525,
                    50.651
                  ],
                  "yaxis": "y"
                },
                {
                  "hovertemplate": "country=Comoros<br>gdpPercap=%{x}<br>lifeExp=%{y}<extra></extra>",
                  "legendgroup": "Comoros",
                  "marker": {
                    "color": "#FECB52",
                    "symbol": "circle"
                  },
                  "mode": "markers",
                  "name": "Comoros",
                  "orientation": "v",
                  "showlegend": true,
                  "type": "scatter",
                  "x": [
                    1102.990936,
                    1211.148548,
                    1406.648278,
                    1876.029643,
                    1937.577675,
                    1172.603047,
                    1267.100083,
                    1315.980812,
                    1246.90737,
                    1173.618235,
                    1075.811558,
                    986.1478792
                  ],
                  "xaxis": "x",
                  "y": [
                    40.715,
                    42.46,
                    44.467,
                    46.472,
                    48.944,
                    50.93899999999999,
                    52.933,
                    54.926,
                    57.93899999999999,
                    60.66,
                    62.974,
                    65.152
                  ],
                  "yaxis": "y"
                },
                {
                  "hovertemplate": "country=Congo, Dem. Rep.<br>gdpPercap=%{x}<br>lifeExp=%{y}<extra></extra>",
                  "legendgroup": "Congo, Dem. Rep.",
                  "marker": {
                    "color": "#636efa",
                    "symbol": "circle"
                  },
                  "mode": "markers",
                  "name": "Congo, Dem. Rep.",
                  "orientation": "v",
                  "showlegend": true,
                  "type": "scatter",
                  "x": [
                    780.5423257,
                    905.8602303,
                    896.3146335000001,
                    861.5932424,
                    904.8960685,
                    795.757282,
                    673.7478181,
                    672.774812,
                    457.7191807,
                    312.188423,
                    241.1658765,
                    277.5518587
                  ],
                  "xaxis": "x",
                  "y": [
                    39.143,
                    40.652,
                    42.122,
                    44.056,
                    45.989,
                    47.804,
                    47.784,
                    47.412,
                    45.548,
                    42.587,
                    44.966,
                    46.462
                  ],
                  "yaxis": "y"
                },
                {
                  "hovertemplate": "country=Congo, Rep.<br>gdpPercap=%{x}<br>lifeExp=%{y}<extra></extra>",
                  "legendgroup": "Congo, Rep.",
                  "marker": {
                    "color": "#EF553B",
                    "symbol": "circle"
                  },
                  "mode": "markers",
                  "name": "Congo, Rep.",
                  "orientation": "v",
                  "showlegend": true,
                  "type": "scatter",
                  "x": [
                    2125.621418,
                    2315.056572,
                    2464.783157,
                    2677.9396420000007,
                    3213.152683,
                    3259.178978,
                    4879.507522,
                    4201.194936999998,
                    4016.239529,
                    3484.164376,
                    3484.06197,
                    3632.557798
                  ],
                  "xaxis": "x",
                  "y": [
                    42.111,
                    45.053,
                    48.435,
                    52.04,
                    54.907,
                    55.625,
                    56.695,
                    57.47,
                    56.433,
                    52.962,
                    52.97,
                    55.322
                  ],
                  "yaxis": "y"
                },
                {
                  "hovertemplate": "country=Cote d'Ivoire<br>gdpPercap=%{x}<br>lifeExp=%{y}<extra></extra>",
                  "legendgroup": "Cote d'Ivoire",
                  "marker": {
                    "color": "#00cc96",
                    "symbol": "circle"
                  },
                  "mode": "markers",
                  "name": "Cote d'Ivoire",
                  "orientation": "v",
                  "showlegend": true,
                  "type": "scatter",
                  "x": [
                    1388.594732,
                    1500.895925,
                    1728.8694280000002,
                    2052.050473,
                    2378.201111,
                    2517.736547,
                    2602.710169,
                    2156.9560690000008,
                    1648.073791,
                    1786.265407,
                    1648.800823,
                    1544.750112
                  ],
                  "xaxis": "x",
                  "y": [
                    40.477,
                    42.469,
                    44.93,
                    47.35,
                    49.801,
                    52.374,
                    53.983,
                    54.655,
                    52.044,
                    47.99100000000001,
                    46.832,
                    48.328
                  ],
                  "yaxis": "y"
                },
                {
                  "hovertemplate": "country=Djibouti<br>gdpPercap=%{x}<br>lifeExp=%{y}<extra></extra>",
                  "legendgroup": "Djibouti",
                  "marker": {
                    "color": "#ab63fa",
                    "symbol": "circle"
                  },
                  "mode": "markers",
                  "name": "Djibouti",
                  "orientation": "v",
                  "showlegend": true,
                  "type": "scatter",
                  "x": [
                    2669.529475,
                    2864.9690760000008,
                    3020.989263,
                    3020.050513,
                    3694.2123520000014,
                    3081.761022,
                    2879.468067,
                    2880.102568,
                    2377.156192000001,
                    1895.016984,
                    1908.260867,
                    2082.4815670000007
                  ],
                  "xaxis": "x",
                  "y": [
                    34.812,
                    37.328,
                    39.69300000000001,
                    42.074,
                    44.36600000000001,
                    46.519,
                    48.812,
                    50.04,
                    51.604,
                    53.157,
                    53.37300000000001,
                    54.791
                  ],
                  "yaxis": "y"
                },
                {
                  "hovertemplate": "country=Egypt<br>gdpPercap=%{x}<br>lifeExp=%{y}<extra></extra>",
                  "legendgroup": "Egypt",
                  "marker": {
                    "color": "#FFA15A",
                    "symbol": "circle"
                  },
                  "mode": "markers",
                  "name": "Egypt",
                  "orientation": "v",
                  "showlegend": true,
                  "type": "scatter",
                  "x": [
                    1418.822445,
                    1458.915272,
                    1693.335853,
                    1814.880728,
                    2024.008147,
                    2785.493582,
                    3503.729636,
                    3885.46071,
                    3794.755195,
                    4173.181797,
                    4754.604414,
                    5581.180998
                  ],
                  "xaxis": "x",
                  "y": [
                    41.893,
                    44.444,
                    46.992,
                    49.293,
                    51.137,
                    53.319,
                    56.006,
                    59.797,
                    63.674,
                    67.217,
                    69.806,
                    71.33800000000002
                  ],
                  "yaxis": "y"
                },
                {
                  "hovertemplate": "country=Equatorial Guinea<br>gdpPercap=%{x}<br>lifeExp=%{y}<extra></extra>",
                  "legendgroup": "Equatorial Guinea",
                  "marker": {
                    "color": "#19d3f3",
                    "symbol": "circle"
                  },
                  "mode": "markers",
                  "name": "Equatorial Guinea",
                  "orientation": "v",
                  "showlegend": true,
                  "type": "scatter",
                  "x": [
                    375.6431231,
                    426.0964081,
                    582.8419713999998,
                    915.5960025,
                    672.4122571,
                    958.5668124,
                    927.8253427,
                    966.8968149,
                    1132.055034,
                    2814.480755,
                    7703.4959,
                    12154.08975
                  ],
                  "xaxis": "x",
                  "y": [
                    34.482,
                    35.98300000000001,
                    37.485,
                    38.987,
                    40.516,
                    42.024,
                    43.662,
                    45.664,
                    47.545,
                    48.245,
                    49.348,
                    51.57899999999999
                  ],
                  "yaxis": "y"
                },
                {
                  "hovertemplate": "country=Eritrea<br>gdpPercap=%{x}<br>lifeExp=%{y}<extra></extra>",
                  "legendgroup": "Eritrea",
                  "marker": {
                    "color": "#FF6692",
                    "symbol": "circle"
                  },
                  "mode": "markers",
                  "name": "Eritrea",
                  "orientation": "v",
                  "showlegend": true,
                  "type": "scatter",
                  "x": [
                    328.9405571000001,
                    344.1618859,
                    380.9958433000001,
                    468.7949699,
                    514.3242081999998,
                    505.7538077,
                    524.8758493,
                    521.1341333,
                    582.8585102000002,
                    913.47079,
                    765.3500015,
                    641.3695236000002
                  ],
                  "xaxis": "x",
                  "y": [
                    35.92800000000001,
                    38.047,
                    40.158,
                    42.18899999999999,
                    44.142,
                    44.535,
                    43.89,
                    46.453,
                    49.99100000000001,
                    53.378,
                    55.24,
                    58.04
                  ],
                  "yaxis": "y"
                },
                {
                  "hovertemplate": "country=Ethiopia<br>gdpPercap=%{x}<br>lifeExp=%{y}<extra></extra>",
                  "legendgroup": "Ethiopia",
                  "marker": {
                    "color": "#B6E880",
                    "symbol": "circle"
                  },
                  "mode": "markers",
                  "name": "Ethiopia",
                  "orientation": "v",
                  "showlegend": true,
                  "type": "scatter",
                  "x": [
                    362.1462796,
                    378.9041632,
                    419.4564161,
                    516.1186438,
                    566.2439442000001,
                    556.8083834,
                    577.8607471,
                    573.7413142000001,
                    421.3534653,
                    515.8894013,
                    530.0535319,
                    690.8055759
                  ],
                  "xaxis": "x",
                  "y": [
                    34.078,
                    36.667,
                    40.059,
                    42.115,
                    43.515,
                    44.51,
                    44.916,
                    46.684,
                    48.091,
                    49.402,
                    50.725,
                    52.947
                  ],
                  "yaxis": "y"
                },
                {
                  "hovertemplate": "country=Gabon<br>gdpPercap=%{x}<br>lifeExp=%{y}<extra></extra>",
                  "legendgroup": "Gabon",
                  "marker": {
                    "color": "#FF97FF",
                    "symbol": "circle"
                  },
                  "mode": "markers",
                  "name": "Gabon",
                  "orientation": "v",
                  "showlegend": true,
                  "type": "scatter",
                  "x": [
                    4293.476475,
                    4976.198099,
                    6631.459222,
                    8358.761987,
                    11401.94841,
                    21745.57328,
                    15113.36194,
                    11864.40844,
                    13522.15752,
                    14722.841880000002,
                    12521.71392,
                    13206.48452
                  ],
                  "xaxis": "x",
                  "y": [
                    37.003,
                    38.999,
                    40.489,
                    44.598,
                    48.69,
                    52.79,
                    56.56399999999999,
                    60.19,
                    61.36600000000001,
                    60.46100000000001,
                    56.761,
                    56.735
                  ],
                  "yaxis": "y"
                },
                {
                  "hovertemplate": "country=Gambia<br>gdpPercap=%{x}<br>lifeExp=%{y}<extra></extra>",
                  "legendgroup": "Gambia",
                  "marker": {
                    "color": "#FECB52",
                    "symbol": "circle"
                  },
                  "mode": "markers",
                  "name": "Gambia",
                  "orientation": "v",
                  "showlegend": true,
                  "type": "scatter",
                  "x": [
                    485.2306591,
                    520.9267111,
                    599.650276,
                    734.7829124,
                    756.0868363,
                    884.7552507000001,
                    835.8096107999999,
                    611.6588611000002,
                    665.6244126,
                    653.7301704,
                    660.5855997,
                    752.7497265
                  ],
                  "xaxis": "x",
                  "y": [
                    30,
                    32.065,
                    33.896,
                    35.857,
                    38.308,
                    41.842,
                    45.58,
                    49.265,
                    52.644,
                    55.861,
                    58.041,
                    59.448
                  ],
                  "yaxis": "y"
                },
                {
                  "hovertemplate": "country=Ghana<br>gdpPercap=%{x}<br>lifeExp=%{y}<extra></extra>",
                  "legendgroup": "Ghana",
                  "marker": {
                    "color": "#636efa",
                    "symbol": "circle"
                  },
                  "mode": "markers",
                  "name": "Ghana",
                  "orientation": "v",
                  "showlegend": true,
                  "type": "scatter",
                  "x": [
                    911.2989371,
                    1043.5615369999996,
                    1190.041118,
                    1125.69716,
                    1178.223708,
                    993.2239571,
                    876.032569,
                    847.0061135,
                    925.060154,
                    1005.245812,
                    1111.9845779999996,
                    1327.60891
                  ],
                  "xaxis": "x",
                  "y": [
                    43.149,
                    44.779,
                    46.452,
                    48.072,
                    49.875,
                    51.756,
                    53.744,
                    55.729,
                    57.50100000000001,
                    58.556,
                    58.453,
                    60.022
                  ],
                  "yaxis": "y"
                },
                {
                  "hovertemplate": "country=Guinea<br>gdpPercap=%{x}<br>lifeExp=%{y}<extra></extra>",
                  "legendgroup": "Guinea",
                  "marker": {
                    "color": "#EF553B",
                    "symbol": "circle"
                  },
                  "mode": "markers",
                  "name": "Guinea",
                  "orientation": "v",
                  "showlegend": true,
                  "type": "scatter",
                  "x": [
                    510.1964923000001,
                    576.2670245,
                    686.3736739,
                    708.7595409,
                    741.6662307,
                    874.6858642999998,
                    857.2503577,
                    805.5724717999999,
                    794.3484384,
                    869.4497667999998,
                    945.5835837,
                    942.6542111
                  ],
                  "xaxis": "x",
                  "y": [
                    33.609,
                    34.558,
                    35.753,
                    37.197,
                    38.842,
                    40.762,
                    42.89100000000001,
                    45.552,
                    48.576,
                    51.455,
                    53.676,
                    56.007
                  ],
                  "yaxis": "y"
                },
                {
                  "hovertemplate": "country=Guinea-Bissau<br>gdpPercap=%{x}<br>lifeExp=%{y}<extra></extra>",
                  "legendgroup": "Guinea-Bissau",
                  "marker": {
                    "color": "#00cc96",
                    "symbol": "circle"
                  },
                  "mode": "markers",
                  "name": "Guinea-Bissau",
                  "orientation": "v",
                  "showlegend": true,
                  "type": "scatter",
                  "x": [
                    299.850319,
                    431.79045660000014,
                    522.0343725,
                    715.5806402000002,
                    820.2245876000002,
                    764.7259627999998,
                    838.1239671,
                    736.4153921,
                    745.5398706,
                    796.6644681,
                    575.7047176,
                    579.2317429999998
                  ],
                  "xaxis": "x",
                  "y": [
                    32.5,
                    33.489000000000004,
                    34.488,
                    35.492,
                    36.486,
                    37.465,
                    39.327,
                    41.245,
                    43.26600000000001,
                    44.87300000000001,
                    45.504,
                    46.38800000000001
                  ],
                  "yaxis": "y"
                },
                {
                  "hovertemplate": "country=Kenya<br>gdpPercap=%{x}<br>lifeExp=%{y}<extra></extra>",
                  "legendgroup": "Kenya",
                  "marker": {
                    "color": "#ab63fa",
                    "symbol": "circle"
                  },
                  "mode": "markers",
                  "name": "Kenya",
                  "orientation": "v",
                  "showlegend": true,
                  "type": "scatter",
                  "x": [
                    853.5409189999998,
                    944.4383152,
                    896.9663732,
                    1056.736457,
                    1222.359968,
                    1267.613204,
                    1348.225791,
                    1361.936856,
                    1341.9217210000004,
                    1360.4850210000004,
                    1287.514732,
                    1463.249282
                  ],
                  "xaxis": "x",
                  "y": [
                    42.27,
                    44.68600000000001,
                    47.949,
                    50.654,
                    53.559,
                    56.155,
                    58.76600000000001,
                    59.339,
                    59.285,
                    54.407,
                    50.992,
                    54.11
                  ],
                  "yaxis": "y"
                },
                {
                  "hovertemplate": "country=Lesotho<br>gdpPercap=%{x}<br>lifeExp=%{y}<extra></extra>",
                  "legendgroup": "Lesotho",
                  "marker": {
                    "color": "#FFA15A",
                    "symbol": "circle"
                  },
                  "mode": "markers",
                  "name": "Lesotho",
                  "orientation": "v",
                  "showlegend": true,
                  "type": "scatter",
                  "x": [
                    298.8462121,
                    335.9971151000001,
                    411.8006266,
                    498.6390265,
                    496.5815922000001,
                    745.3695408,
                    797.2631074,
                    773.9932140999998,
                    977.4862725,
                    1186.147994,
                    1275.184575,
                    1569.331442
                  ],
                  "xaxis": "x",
                  "y": [
                    42.13800000000001,
                    45.047,
                    47.747,
                    48.492,
                    49.767,
                    52.208,
                    55.078,
                    57.18,
                    59.685,
                    55.558,
                    44.593,
                    42.592
                  ],
                  "yaxis": "y"
                },
                {
                  "hovertemplate": "country=Liberia<br>gdpPercap=%{x}<br>lifeExp=%{y}<extra></extra>",
                  "legendgroup": "Liberia",
                  "marker": {
                    "color": "#19d3f3",
                    "symbol": "circle"
                  },
                  "mode": "markers",
                  "name": "Liberia",
                  "orientation": "v",
                  "showlegend": true,
                  "type": "scatter",
                  "x": [
                    575.5729961000002,
                    620.9699901,
                    634.1951625,
                    713.6036482999998,
                    803.0054535,
                    640.3224382999998,
                    572.1995694,
                    506.1138573,
                    636.6229191000001,
                    609.1739508,
                    531.4823679,
                    414.5073415
                  ],
                  "xaxis": "x",
                  "y": [
                    38.48,
                    39.486,
                    40.502,
                    41.536,
                    42.614,
                    43.764,
                    44.852,
                    46.027,
                    40.802,
                    42.221,
                    43.753,
                    45.678
                  ],
                  "yaxis": "y"
                },
                {
                  "hovertemplate": "country=Libya<br>gdpPercap=%{x}<br>lifeExp=%{y}<extra></extra>",
                  "legendgroup": "Libya",
                  "marker": {
                    "color": "#FF6692",
                    "symbol": "circle"
                  },
                  "mode": "markers",
                  "name": "Libya",
                  "orientation": "v",
                  "showlegend": true,
                  "type": "scatter",
                  "x": [
                    2387.54806,
                    3448.284395,
                    6757.030816,
                    18772.75169,
                    21011.49721,
                    21951.21176,
                    17364.275380000006,
                    11770.5898,
                    9640.138501,
                    9467.446056,
                    9534.677467,
                    12057.49928
                  ],
                  "xaxis": "x",
                  "y": [
                    42.723,
                    45.289,
                    47.808,
                    50.227,
                    52.773,
                    57.442,
                    62.155,
                    66.234,
                    68.755,
                    71.555,
                    72.737,
                    73.952
                  ],
                  "yaxis": "y"
                },
                {
                  "hovertemplate": "country=Madagascar<br>gdpPercap=%{x}<br>lifeExp=%{y}<extra></extra>",
                  "legendgroup": "Madagascar",
                  "marker": {
                    "color": "#B6E880",
                    "symbol": "circle"
                  },
                  "mode": "markers",
                  "name": "Madagascar",
                  "orientation": "v",
                  "showlegend": true,
                  "type": "scatter",
                  "x": [
                    1443.011715,
                    1589.20275,
                    1643.38711,
                    1634.047282,
                    1748.562982,
                    1544.228586,
                    1302.878658,
                    1155.441948,
                    1040.67619,
                    986.2958956,
                    894.6370822,
                    1044.770126
                  ],
                  "xaxis": "x",
                  "y": [
                    36.681,
                    38.865,
                    40.848,
                    42.881,
                    44.851000000000006,
                    46.881,
                    48.969,
                    49.35,
                    52.214,
                    54.978,
                    57.286,
                    59.44300000000001
                  ],
                  "yaxis": "y"
                },
                {
                  "hovertemplate": "country=Malawi<br>gdpPercap=%{x}<br>lifeExp=%{y}<extra></extra>",
                  "legendgroup": "Malawi",
                  "marker": {
                    "color": "#FF97FF",
                    "symbol": "circle"
                  },
                  "mode": "markers",
                  "name": "Malawi",
                  "orientation": "v",
                  "showlegend": true,
                  "type": "scatter",
                  "x": [
                    369.1650802,
                    416.3698064,
                    427.9010856,
                    495.5147806,
                    584.6219709,
                    663.2236766,
                    632.8039209,
                    635.5173633999998,
                    563.2000145,
                    692.2758102999999,
                    665.4231186000002,
                    759.3499101
                  ],
                  "xaxis": "x",
                  "y": [
                    36.256,
                    37.207,
                    38.41,
                    39.487,
                    41.76600000000001,
                    43.767,
                    45.642,
                    47.457,
                    49.42,
                    47.495,
                    45.00899999999999,
                    48.303
                  ],
                  "yaxis": "y"
                },
                {
                  "hovertemplate": "country=Mali<br>gdpPercap=%{x}<br>lifeExp=%{y}<extra></extra>",
                  "legendgroup": "Mali",
                  "marker": {
                    "color": "#FECB52",
                    "symbol": "circle"
                  },
                  "mode": "markers",
                  "name": "Mali",
                  "orientation": "v",
                  "showlegend": true,
                  "type": "scatter",
                  "x": [
                    452.3369807,
                    490.3821867,
                    496.1743428,
                    545.0098873,
                    581.3688761,
                    686.3952693,
                    618.0140640999998,
                    684.1715576,
                    739.014375,
                    790.2579846,
                    951.4097518,
                    1042.581557
                  ],
                  "xaxis": "x",
                  "y": [
                    33.685,
                    35.30699999999999,
                    36.936,
                    38.487,
                    39.977,
                    41.714,
                    43.916,
                    46.364,
                    48.38800000000001,
                    49.903,
                    51.81800000000001,
                    54.467
                  ],
                  "yaxis": "y"
                },
                {
                  "hovertemplate": "country=Mauritania<br>gdpPercap=%{x}<br>lifeExp=%{y}<extra></extra>",
                  "legendgroup": "Mauritania",
                  "marker": {
                    "color": "#636efa",
                    "symbol": "circle"
                  },
                  "mode": "markers",
                  "name": "Mauritania",
                  "orientation": "v",
                  "showlegend": true,
                  "type": "scatter",
                  "x": [
                    743.1159097,
                    846.1202613,
                    1055.896036,
                    1421.145193,
                    1586.851781,
                    1497.492223,
                    1481.150189,
                    1421.603576,
                    1361.369784,
                    1483.136136,
                    1579.019543,
                    1803.151496
                  ],
                  "xaxis": "x",
                  "y": [
                    40.543,
                    42.338,
                    44.24800000000001,
                    46.289,
                    48.437,
                    50.852,
                    53.599,
                    56.145,
                    58.333,
                    60.43,
                    62.247,
                    64.164
                  ],
                  "yaxis": "y"
                },
                {
                  "hovertemplate": "country=Mauritius<br>gdpPercap=%{x}<br>lifeExp=%{y}<extra></extra>",
                  "legendgroup": "Mauritius",
                  "marker": {
                    "color": "#EF553B",
                    "symbol": "circle"
                  },
                  "mode": "markers",
                  "name": "Mauritius",
                  "orientation": "v",
                  "showlegend": true,
                  "type": "scatter",
                  "x": [
                    1967.955707,
                    2034.037981,
                    2529.0674870000007,
                    2475.387562,
                    2575.484158,
                    3710.982963,
                    3688.037739,
                    4783.586903,
                    6058.253846000001,
                    7425.705295000002,
                    9021.815894,
                    10956.99112
                  ],
                  "xaxis": "x",
                  "y": [
                    50.986,
                    58.089,
                    60.246,
                    61.557,
                    62.944,
                    64.93,
                    66.711,
                    68.74,
                    69.745,
                    70.736,
                    71.954,
                    72.801
                  ],
                  "yaxis": "y"
                },
                {
                  "hovertemplate": "country=Morocco<br>gdpPercap=%{x}<br>lifeExp=%{y}<extra></extra>",
                  "legendgroup": "Morocco",
                  "marker": {
                    "color": "#00cc96",
                    "symbol": "circle"
                  },
                  "mode": "markers",
                  "name": "Morocco",
                  "orientation": "v",
                  "showlegend": true,
                  "type": "scatter",
                  "x": [
                    1688.20357,
                    1642.002314,
                    1566.353493,
                    1711.04477,
                    1930.194975,
                    2370.619976,
                    2702.620356,
                    2755.046991,
                    2948.047252,
                    2982.101858,
                    3258.495584,
                    3820.17523
                  ],
                  "xaxis": "x",
                  "y": [
                    42.87300000000001,
                    45.423,
                    47.924,
                    50.335,
                    52.862,
                    55.73,
                    59.65,
                    62.677,
                    65.393,
                    67.66,
                    69.615,
                    71.164
                  ],
                  "yaxis": "y"
                },
                {
                  "hovertemplate": "country=Mozambique<br>gdpPercap=%{x}<br>lifeExp=%{y}<extra></extra>",
                  "legendgroup": "Mozambique",
                  "marker": {
                    "color": "#ab63fa",
                    "symbol": "circle"
                  },
                  "mode": "markers",
                  "name": "Mozambique",
                  "orientation": "v",
                  "showlegend": true,
                  "type": "scatter",
                  "x": [
                    468.5260381,
                    495.58683330000014,
                    556.6863539,
                    566.6691539,
                    724.9178037,
                    502.3197334,
                    462.2114149,
                    389.8761846,
                    410.8968239,
                    472.34607710000006,
                    633.6179466,
                    823.6856205
                  ],
                  "xaxis": "x",
                  "y": [
                    31.286,
                    33.779,
                    36.161,
                    38.113,
                    40.328,
                    42.495,
                    42.795,
                    42.861,
                    44.284,
                    46.344,
                    44.026,
                    42.082
                  ],
                  "yaxis": "y"
                },
                {
                  "hovertemplate": "country=Namibia<br>gdpPercap=%{x}<br>lifeExp=%{y}<extra></extra>",
                  "legendgroup": "Namibia",
                  "marker": {
                    "color": "#FFA15A",
                    "symbol": "circle"
                  },
                  "mode": "markers",
                  "name": "Namibia",
                  "orientation": "v",
                  "showlegend": true,
                  "type": "scatter",
                  "x": [
                    2423.780443,
                    2621.448058,
                    3173.215595,
                    3793.694753,
                    3746.080948,
                    3876.485958,
                    4191.100511,
                    3693.731337,
                    3804.537999,
                    3899.52426,
                    4072.324751,
                    4811.060429
                  ],
                  "xaxis": "x",
                  "y": [
                    41.725,
                    45.226000000000006,
                    48.386,
                    51.159,
                    53.867,
                    56.437,
                    58.968,
                    60.835,
                    61.999,
                    58.909,
                    51.479,
                    52.90600000000001
                  ],
                  "yaxis": "y"
                },
                {
                  "hovertemplate": "country=Niger<br>gdpPercap=%{x}<br>lifeExp=%{y}<extra></extra>",
                  "legendgroup": "Niger",
                  "marker": {
                    "color": "#19d3f3",
                    "symbol": "circle"
                  },
                  "mode": "markers",
                  "name": "Niger",
                  "orientation": "v",
                  "showlegend": true,
                  "type": "scatter",
                  "x": [
                    761.879376,
                    835.5234025000002,
                    997.7661127,
                    1054.384891,
                    954.2092363,
                    808.8970727999998,
                    909.7221354,
                    668.3000228,
                    581.182725,
                    580.3052092,
                    601.0745012,
                    619.6768923999998
                  ],
                  "xaxis": "x",
                  "y": [
                    37.444,
                    38.598,
                    39.487,
                    40.118,
                    40.546,
                    41.291,
                    42.598,
                    44.555,
                    47.39100000000001,
                    51.313,
                    54.496,
                    56.867
                  ],
                  "yaxis": "y"
                },
                {
                  "hovertemplate": "country=Nigeria<br>gdpPercap=%{x}<br>lifeExp=%{y}<extra></extra>",
                  "legendgroup": "Nigeria",
                  "marker": {
                    "color": "#FF6692",
                    "symbol": "circle"
                  },
                  "mode": "markers",
                  "name": "Nigeria",
                  "orientation": "v",
                  "showlegend": true,
                  "type": "scatter",
                  "x": [
                    1077.281856,
                    1100.5925630000004,
                    1150.9274779999996,
                    1014.514104,
                    1698.388838,
                    1981.951806,
                    1576.97375,
                    1385.029563,
                    1619.848217,
                    1624.941275,
                    1615.286395,
                    2013.977305
                  ],
                  "xaxis": "x",
                  "y": [
                    36.324,
                    37.802,
                    39.36,
                    41.04,
                    42.82100000000001,
                    44.514,
                    45.826,
                    46.886,
                    47.472,
                    47.464,
                    46.608,
                    46.859
                  ],
                  "yaxis": "y"
                },
                {
                  "hovertemplate": "country=Reunion<br>gdpPercap=%{x}<br>lifeExp=%{y}<extra></extra>",
                  "legendgroup": "Reunion",
                  "marker": {
                    "color": "#B6E880",
                    "symbol": "circle"
                  },
                  "mode": "markers",
                  "name": "Reunion",
                  "orientation": "v",
                  "showlegend": true,
                  "type": "scatter",
                  "x": [
                    2718.885295,
                    2769.451844,
                    3173.72334,
                    4021.175739,
                    5047.658563,
                    4319.804067,
                    5267.219353,
                    5303.377488,
                    6101.255823,
                    6071.941411,
                    6316.1652,
                    7670.122558
                  ],
                  "xaxis": "x",
                  "y": [
                    52.724,
                    55.09,
                    57.666,
                    60.542,
                    64.274,
                    67.064,
                    69.885,
                    71.913,
                    73.615,
                    74.77199999999998,
                    75.744,
                    76.442
                  ],
                  "yaxis": "y"
                },
                {
                  "hovertemplate": "country=Rwanda<br>gdpPercap=%{x}<br>lifeExp=%{y}<extra></extra>",
                  "legendgroup": "Rwanda",
                  "marker": {
                    "color": "#FF97FF",
                    "symbol": "circle"
                  },
                  "mode": "markers",
                  "name": "Rwanda",
                  "orientation": "v",
                  "showlegend": true,
                  "type": "scatter",
                  "x": [
                    493.3238752,
                    540.2893982999999,
                    597.4730727000001,
                    510.9637142,
                    590.5806637999998,
                    670.0806011,
                    881.5706467,
                    847.991217,
                    737.0685949,
                    589.9445051,
                    785.6537647999999,
                    863.0884639000002
                  ],
                  "xaxis": "x",
                  "y": [
                    40,
                    41.5,
                    43,
                    44.1,
                    44.6,
                    45,
                    46.218,
                    44.02,
                    23.599,
                    36.087,
                    43.413,
                    46.242
                  ],
                  "yaxis": "y"
                },
                {
                  "hovertemplate": "country=Sao Tome and Principe<br>gdpPercap=%{x}<br>lifeExp=%{y}<extra></extra>",
                  "legendgroup": "Sao Tome and Principe",
                  "marker": {
                    "color": "#FECB52",
                    "symbol": "circle"
                  },
                  "mode": "markers",
                  "name": "Sao Tome and Principe",
                  "orientation": "v",
                  "showlegend": true,
                  "type": "scatter",
                  "x": [
                    879.5835855,
                    860.7369026,
                    1071.551119,
                    1384.840593,
                    1532.985254,
                    1737.561657,
                    1890.218117,
                    1516.525457,
                    1428.777814,
                    1339.076036,
                    1353.09239,
                    1598.435089
                  ],
                  "xaxis": "x",
                  "y": [
                    46.471,
                    48.945,
                    51.893,
                    54.425,
                    56.48,
                    58.55,
                    60.351000000000006,
                    61.728,
                    62.742,
                    63.306,
                    64.337,
                    65.528
                  ],
                  "yaxis": "y"
                },
                {
                  "hovertemplate": "country=Senegal<br>gdpPercap=%{x}<br>lifeExp=%{y}<extra></extra>",
                  "legendgroup": "Senegal",
                  "marker": {
                    "color": "#636efa",
                    "symbol": "circle"
                  },
                  "mode": "markers",
                  "name": "Senegal",
                  "orientation": "v",
                  "showlegend": true,
                  "type": "scatter",
                  "x": [
                    1450.356983,
                    1567.653006,
                    1654.988723,
                    1612.404632,
                    1597.712056,
                    1561.769116,
                    1518.479984,
                    1441.72072,
                    1367.899369,
                    1392.368347,
                    1519.635262,
                    1712.472136
                  ],
                  "xaxis": "x",
                  "y": [
                    37.278,
                    39.329,
                    41.45399999999999,
                    43.563,
                    45.815,
                    48.879,
                    52.379,
                    55.769,
                    58.19600000000001,
                    60.187,
                    61.6,
                    63.062
                  ],
                  "yaxis": "y"
                },
                {
                  "hovertemplate": "country=Sierra Leone<br>gdpPercap=%{x}<br>lifeExp=%{y}<extra></extra>",
                  "legendgroup": "Sierra Leone",
                  "marker": {
                    "color": "#EF553B",
                    "symbol": "circle"
                  },
                  "mode": "markers",
                  "name": "Sierra Leone",
                  "orientation": "v",
                  "showlegend": true,
                  "type": "scatter",
                  "x": [
                    879.7877358,
                    1004.484437,
                    1116.6398769999996,
                    1206.043465,
                    1353.759762,
                    1348.285159,
                    1465.010784,
                    1294.4477880000004,
                    1068.696278,
                    574.6481576,
                    699.4897129999998,
                    862.5407561000002
                  ],
                  "xaxis": "x",
                  "y": [
                    30.331,
                    31.57,
                    32.767,
                    34.113,
                    35.4,
                    36.788,
                    38.445,
                    40.006,
                    38.333,
                    39.897,
                    41.012,
                    42.56800000000001
                  ],
                  "yaxis": "y"
                },
                {
                  "hovertemplate": "country=Somalia<br>gdpPercap=%{x}<br>lifeExp=%{y}<extra></extra>",
                  "legendgroup": "Somalia",
                  "marker": {
                    "color": "#00cc96",
                    "symbol": "circle"
                  },
                  "mode": "markers",
                  "name": "Somalia",
                  "orientation": "v",
                  "showlegend": true,
                  "type": "scatter",
                  "x": [
                    1135.749842,
                    1258.147413,
                    1369.488336,
                    1284.7331800000004,
                    1254.576127,
                    1450.992513,
                    1176.807031,
                    1093.244963,
                    926.9602964,
                    930.5964284,
                    882.0818218000002,
                    926.1410683
                  ],
                  "xaxis": "x",
                  "y": [
                    32.978,
                    34.977,
                    36.981,
                    38.977,
                    40.973,
                    41.974,
                    42.955,
                    44.50100000000001,
                    39.658,
                    43.795,
                    45.93600000000001,
                    48.159
                  ],
                  "yaxis": "y"
                },
                {
                  "hovertemplate": "country=South Africa<br>gdpPercap=%{x}<br>lifeExp=%{y}<extra></extra>",
                  "legendgroup": "South Africa",
                  "marker": {
                    "color": "#ab63fa",
                    "symbol": "circle"
                  },
                  "mode": "markers",
                  "name": "South Africa",
                  "orientation": "v",
                  "showlegend": true,
                  "type": "scatter",
                  "x": [
                    4725.295531000002,
                    5487.104219,
                    5768.729717,
                    7114.477970999998,
                    7765.962636,
                    8028.651439,
                    8568.266228,
                    7825.823398,
                    7225.069257999998,
                    7479.188244,
                    7710.946444,
                    9269.657808
                  ],
                  "xaxis": "x",
                  "y": [
                    45.00899999999999,
                    47.985,
                    49.951,
                    51.927,
                    53.69600000000001,
                    55.527,
                    58.161,
                    60.834,
                    61.88800000000001,
                    60.236,
                    53.365,
                    49.339
                  ],
                  "yaxis": "y"
                },
                {
                  "hovertemplate": "country=Sudan<br>gdpPercap=%{x}<br>lifeExp=%{y}<extra></extra>",
                  "legendgroup": "Sudan",
                  "marker": {
                    "color": "#FFA15A",
                    "symbol": "circle"
                  },
                  "mode": "markers",
                  "name": "Sudan",
                  "orientation": "v",
                  "showlegend": true,
                  "type": "scatter",
                  "x": [
                    1615.991129,
                    1770.3370739999998,
                    1959.593767,
                    1687.997641,
                    1659.652775,
                    2202.988423,
                    1895.544073,
                    1507.819159,
                    1492.197043,
                    1632.2107640000004,
                    1993.398314,
                    2602.394995
                  ],
                  "xaxis": "x",
                  "y": [
                    38.635,
                    39.624,
                    40.87,
                    42.858,
                    45.083,
                    47.8,
                    50.338,
                    51.744,
                    53.556,
                    55.37300000000001,
                    56.369,
                    58.556
                  ],
                  "yaxis": "y"
                },
                {
                  "hovertemplate": "country=Swaziland<br>gdpPercap=%{x}<br>lifeExp=%{y}<extra></extra>",
                  "legendgroup": "Swaziland",
                  "marker": {
                    "color": "#19d3f3",
                    "symbol": "circle"
                  },
                  "mode": "markers",
                  "name": "Swaziland",
                  "orientation": "v",
                  "showlegend": true,
                  "type": "scatter",
                  "x": [
                    1148.376626,
                    1244.708364,
                    1856.182125,
                    2613.101665,
                    3364.836625,
                    3781.410618,
                    3895.384018,
                    3984.839812,
                    3553.0224,
                    3876.76846,
                    4128.116943,
                    4513.480643
                  ],
                  "xaxis": "x",
                  "y": [
                    41.407,
                    43.424,
                    44.992,
                    46.633,
                    49.552,
                    52.537,
                    55.56100000000001,
                    57.678,
                    58.474,
                    54.289,
                    43.869,
                    39.613
                  ],
                  "yaxis": "y"
                },
                {
                  "hovertemplate": "country=Tanzania<br>gdpPercap=%{x}<br>lifeExp=%{y}<extra></extra>",
                  "legendgroup": "Tanzania",
                  "marker": {
                    "color": "#FF6692",
                    "symbol": "circle"
                  },
                  "mode": "markers",
                  "name": "Tanzania",
                  "orientation": "v",
                  "showlegend": true,
                  "type": "scatter",
                  "x": [
                    716.6500721,
                    698.5356073,
                    722.0038073,
                    848.2186575,
                    915.9850592,
                    962.4922932,
                    874.2426069,
                    831.8220794,
                    825.682454,
                    789.1862231,
                    899.0742111,
                    1107.482182
                  ],
                  "xaxis": "x",
                  "y": [
                    41.215,
                    42.974,
                    44.246,
                    45.757,
                    47.62,
                    49.919,
                    50.608,
                    51.535,
                    50.44,
                    48.466,
                    49.651,
                    52.517
                  ],
                  "yaxis": "y"
                },
                {
                  "hovertemplate": "country=Togo<br>gdpPercap=%{x}<br>lifeExp=%{y}<extra></extra>",
                  "legendgroup": "Togo",
                  "marker": {
                    "color": "#B6E880",
                    "symbol": "circle"
                  },
                  "mode": "markers",
                  "name": "Togo",
                  "orientation": "v",
                  "showlegend": true,
                  "type": "scatter",
                  "x": [
                    859.8086567,
                    925.9083202,
                    1067.53481,
                    1477.59676,
                    1649.660188,
                    1532.776998,
                    1344.577953,
                    1202.201361,
                    1034.298904,
                    982.2869243,
                    886.2205765000001,
                    882.9699437999999
                  ],
                  "xaxis": "x",
                  "y": [
                    38.596,
                    41.208,
                    43.922,
                    46.769,
                    49.75899999999999,
                    52.887,
                    55.471,
                    56.941,
                    58.06100000000001,
                    58.39,
                    57.56100000000001,
                    58.42
                  ],
                  "yaxis": "y"
                },
                {
                  "hovertemplate": "country=Tunisia<br>gdpPercap=%{x}<br>lifeExp=%{y}<extra></extra>",
                  "legendgroup": "Tunisia",
                  "marker": {
                    "color": "#FF97FF",
                    "symbol": "circle"
                  },
                  "mode": "markers",
                  "name": "Tunisia",
                  "orientation": "v",
                  "showlegend": true,
                  "type": "scatter",
                  "x": [
                    1468.475631,
                    1395.232468,
                    1660.30321,
                    1932.3601670000005,
                    2753.2859940000008,
                    3120.876811,
                    3560.2331740000004,
                    3810.419296,
                    4332.720164,
                    4876.798614,
                    5722.895654999998,
                    7092.923025
                  ],
                  "xaxis": "x",
                  "y": [
                    44.6,
                    47.1,
                    49.57899999999999,
                    52.053,
                    55.602,
                    59.837,
                    64.048,
                    66.89399999999999,
                    70.001,
                    71.973,
                    73.042,
                    73.923
                  ],
                  "yaxis": "y"
                },
                {
                  "hovertemplate": "country=Uganda<br>gdpPercap=%{x}<br>lifeExp=%{y}<extra></extra>",
                  "legendgroup": "Uganda",
                  "marker": {
                    "color": "#FECB52",
                    "symbol": "circle"
                  },
                  "mode": "markers",
                  "name": "Uganda",
                  "orientation": "v",
                  "showlegend": true,
                  "type": "scatter",
                  "x": [
                    734.753484,
                    774.3710692000002,
                    767.2717397999999,
                    908.9185217,
                    950.735869,
                    843.7331372000001,
                    682.2662267999998,
                    617.7244065,
                    644.1707968999998,
                    816.559081,
                    927.7210018,
                    1056.380121
                  ],
                  "xaxis": "x",
                  "y": [
                    39.978,
                    42.57100000000001,
                    45.344,
                    48.051,
                    51.01600000000001,
                    50.35,
                    49.849,
                    51.50899999999999,
                    48.825,
                    44.578,
                    47.813,
                    51.542
                  ],
                  "yaxis": "y"
                },
                {
                  "hovertemplate": "country=Zambia<br>gdpPercap=%{x}<br>lifeExp=%{y}<extra></extra>",
                  "legendgroup": "Zambia",
                  "marker": {
                    "color": "#636efa",
                    "symbol": "circle"
                  },
                  "mode": "markers",
                  "name": "Zambia",
                  "orientation": "v",
                  "showlegend": true,
                  "type": "scatter",
                  "x": [
                    1147.388831,
                    1311.956766,
                    1452.725766,
                    1777.077318,
                    1773.498265,
                    1588.688299,
                    1408.678565,
                    1213.315116,
                    1210.884633,
                    1071.353818,
                    1071.6139380000004,
                    1271.211593
                  ],
                  "xaxis": "x",
                  "y": [
                    42.038,
                    44.077,
                    46.023,
                    47.768,
                    50.107,
                    51.386,
                    51.82100000000001,
                    50.82100000000001,
                    46.1,
                    40.238,
                    39.19300000000001,
                    42.38399999999999
                  ],
                  "yaxis": "y"
                },
                {
                  "hovertemplate": "country=Zimbabwe<br>gdpPercap=%{x}<br>lifeExp=%{y}<extra></extra>",
                  "legendgroup": "Zimbabwe",
                  "marker": {
                    "color": "#EF553B",
                    "symbol": "circle"
                  },
                  "mode": "markers",
                  "name": "Zimbabwe",
                  "orientation": "v",
                  "showlegend": true,
                  "type": "scatter",
                  "x": [
                    406.8841148,
                    518.7642681,
                    527.2721818,
                    569.7950712,
                    799.3621757999998,
                    685.5876821,
                    788.8550411,
                    706.1573059,
                    693.4207856,
                    792.4499602999998,
                    672.0386227000001,
                    469.70929810000007
                  ],
                  "xaxis": "x",
                  "y": [
                    48.451,
                    50.469,
                    52.358,
                    53.995,
                    55.635,
                    57.674,
                    60.363,
                    62.351000000000006,
                    60.377,
                    46.809,
                    39.989,
                    43.487
                  ],
                  "yaxis": "y"
                }
              ],
              "layout": {
                "legend": {
                  "title": {
                    "text": "country"
                  },
                  "tracegroupgap": 0
                },
                "template": {
                  "data": {
                    "bar": [
                      {
                        "error_x": {
                          "color": "#2a3f5f"
                        },
                        "error_y": {
                          "color": "#2a3f5f"
                        },
                        "marker": {
                          "line": {
                            "color": "#E5ECF6",
                            "width": 0.5
                          },
                          "pattern": {
                            "fillmode": "overlay",
                            "size": 10,
                            "solidity": 0.2
                          }
                        },
                        "type": "bar"
                      }
                    ],
                    "barpolar": [
                      {
                        "marker": {
                          "line": {
                            "color": "#E5ECF6",
                            "width": 0.5
                          },
                          "pattern": {
                            "fillmode": "overlay",
                            "size": 10,
                            "solidity": 0.2
                          }
                        },
                        "type": "barpolar"
                      }
                    ],
                    "carpet": [
                      {
                        "aaxis": {
                          "endlinecolor": "#2a3f5f",
                          "gridcolor": "white",
                          "linecolor": "white",
                          "minorgridcolor": "white",
                          "startlinecolor": "#2a3f5f"
                        },
                        "baxis": {
                          "endlinecolor": "#2a3f5f",
                          "gridcolor": "white",
                          "linecolor": "white",
                          "minorgridcolor": "white",
                          "startlinecolor": "#2a3f5f"
                        },
                        "type": "carpet"
                      }
                    ],
                    "choropleth": [
                      {
                        "colorbar": {
                          "outlinewidth": 0,
                          "ticks": ""
                        },
                        "type": "choropleth"
                      }
                    ],
                    "contour": [
                      {
                        "colorbar": {
                          "outlinewidth": 0,
                          "ticks": ""
                        },
                        "colorscale": [
                          [
                            0,
                            "#0d0887"
                          ],
                          [
                            0.1111111111111111,
                            "#46039f"
                          ],
                          [
                            0.2222222222222222,
                            "#7201a8"
                          ],
                          [
                            0.3333333333333333,
                            "#9c179e"
                          ],
                          [
                            0.4444444444444444,
                            "#bd3786"
                          ],
                          [
                            0.5555555555555556,
                            "#d8576b"
                          ],
                          [
                            0.6666666666666666,
                            "#ed7953"
                          ],
                          [
                            0.7777777777777778,
                            "#fb9f3a"
                          ],
                          [
                            0.8888888888888888,
                            "#fdca26"
                          ],
                          [
                            1,
                            "#f0f921"
                          ]
                        ],
                        "type": "contour"
                      }
                    ],
                    "contourcarpet": [
                      {
                        "colorbar": {
                          "outlinewidth": 0,
                          "ticks": ""
                        },
                        "type": "contourcarpet"
                      }
                    ],
                    "heatmap": [
                      {
                        "colorbar": {
                          "outlinewidth": 0,
                          "ticks": ""
                        },
                        "colorscale": [
                          [
                            0,
                            "#0d0887"
                          ],
                          [
                            0.1111111111111111,
                            "#46039f"
                          ],
                          [
                            0.2222222222222222,
                            "#7201a8"
                          ],
                          [
                            0.3333333333333333,
                            "#9c179e"
                          ],
                          [
                            0.4444444444444444,
                            "#bd3786"
                          ],
                          [
                            0.5555555555555556,
                            "#d8576b"
                          ],
                          [
                            0.6666666666666666,
                            "#ed7953"
                          ],
                          [
                            0.7777777777777778,
                            "#fb9f3a"
                          ],
                          [
                            0.8888888888888888,
                            "#fdca26"
                          ],
                          [
                            1,
                            "#f0f921"
                          ]
                        ],
                        "type": "heatmap"
                      }
                    ],
                    "heatmapgl": [
                      {
                        "colorbar": {
                          "outlinewidth": 0,
                          "ticks": ""
                        },
                        "colorscale": [
                          [
                            0,
                            "#0d0887"
                          ],
                          [
                            0.1111111111111111,
                            "#46039f"
                          ],
                          [
                            0.2222222222222222,
                            "#7201a8"
                          ],
                          [
                            0.3333333333333333,
                            "#9c179e"
                          ],
                          [
                            0.4444444444444444,
                            "#bd3786"
                          ],
                          [
                            0.5555555555555556,
                            "#d8576b"
                          ],
                          [
                            0.6666666666666666,
                            "#ed7953"
                          ],
                          [
                            0.7777777777777778,
                            "#fb9f3a"
                          ],
                          [
                            0.8888888888888888,
                            "#fdca26"
                          ],
                          [
                            1,
                            "#f0f921"
                          ]
                        ],
                        "type": "heatmapgl"
                      }
                    ],
                    "histogram": [
                      {
                        "marker": {
                          "pattern": {
                            "fillmode": "overlay",
                            "size": 10,
                            "solidity": 0.2
                          }
                        },
                        "type": "histogram"
                      }
                    ],
                    "histogram2d": [
                      {
                        "colorbar": {
                          "outlinewidth": 0,
                          "ticks": ""
                        },
                        "colorscale": [
                          [
                            0,
                            "#0d0887"
                          ],
                          [
                            0.1111111111111111,
                            "#46039f"
                          ],
                          [
                            0.2222222222222222,
                            "#7201a8"
                          ],
                          [
                            0.3333333333333333,
                            "#9c179e"
                          ],
                          [
                            0.4444444444444444,
                            "#bd3786"
                          ],
                          [
                            0.5555555555555556,
                            "#d8576b"
                          ],
                          [
                            0.6666666666666666,
                            "#ed7953"
                          ],
                          [
                            0.7777777777777778,
                            "#fb9f3a"
                          ],
                          [
                            0.8888888888888888,
                            "#fdca26"
                          ],
                          [
                            1,
                            "#f0f921"
                          ]
                        ],
                        "type": "histogram2d"
                      }
                    ],
                    "histogram2dcontour": [
                      {
                        "colorbar": {
                          "outlinewidth": 0,
                          "ticks": ""
                        },
                        "colorscale": [
                          [
                            0,
                            "#0d0887"
                          ],
                          [
                            0.1111111111111111,
                            "#46039f"
                          ],
                          [
                            0.2222222222222222,
                            "#7201a8"
                          ],
                          [
                            0.3333333333333333,
                            "#9c179e"
                          ],
                          [
                            0.4444444444444444,
                            "#bd3786"
                          ],
                          [
                            0.5555555555555556,
                            "#d8576b"
                          ],
                          [
                            0.6666666666666666,
                            "#ed7953"
                          ],
                          [
                            0.7777777777777778,
                            "#fb9f3a"
                          ],
                          [
                            0.8888888888888888,
                            "#fdca26"
                          ],
                          [
                            1,
                            "#f0f921"
                          ]
                        ],
                        "type": "histogram2dcontour"
                      }
                    ],
                    "mesh3d": [
                      {
                        "colorbar": {
                          "outlinewidth": 0,
                          "ticks": ""
                        },
                        "type": "mesh3d"
                      }
                    ],
                    "parcoords": [
                      {
                        "line": {
                          "colorbar": {
                            "outlinewidth": 0,
                            "ticks": ""
                          }
                        },
                        "type": "parcoords"
                      }
                    ],
                    "pie": [
                      {
                        "automargin": true,
                        "type": "pie"
                      }
                    ],
                    "scatter": [
                      {
                        "fillpattern": {
                          "fillmode": "overlay",
                          "size": 10,
                          "solidity": 0.2
                        },
                        "type": "scatter"
                      }
                    ],
                    "scatter3d": [
                      {
                        "line": {
                          "colorbar": {
                            "outlinewidth": 0,
                            "ticks": ""
                          }
                        },
                        "marker": {
                          "colorbar": {
                            "outlinewidth": 0,
                            "ticks": ""
                          }
                        },
                        "type": "scatter3d"
                      }
                    ],
                    "scattercarpet": [
                      {
                        "marker": {
                          "colorbar": {
                            "outlinewidth": 0,
                            "ticks": ""
                          }
                        },
                        "type": "scattercarpet"
                      }
                    ],
                    "scattergeo": [
                      {
                        "marker": {
                          "colorbar": {
                            "outlinewidth": 0,
                            "ticks": ""
                          }
                        },
                        "type": "scattergeo"
                      }
                    ],
                    "scattergl": [
                      {
                        "marker": {
                          "colorbar": {
                            "outlinewidth": 0,
                            "ticks": ""
                          }
                        },
                        "type": "scattergl"
                      }
                    ],
                    "scattermapbox": [
                      {
                        "marker": {
                          "colorbar": {
                            "outlinewidth": 0,
                            "ticks": ""
                          }
                        },
                        "type": "scattermapbox"
                      }
                    ],
                    "scatterpolar": [
                      {
                        "marker": {
                          "colorbar": {
                            "outlinewidth": 0,
                            "ticks": ""
                          }
                        },
                        "type": "scatterpolar"
                      }
                    ],
                    "scatterpolargl": [
                      {
                        "marker": {
                          "colorbar": {
                            "outlinewidth": 0,
                            "ticks": ""
                          }
                        },
                        "type": "scatterpolargl"
                      }
                    ],
                    "scatterternary": [
                      {
                        "marker": {
                          "colorbar": {
                            "outlinewidth": 0,
                            "ticks": ""
                          }
                        },
                        "type": "scatterternary"
                      }
                    ],
                    "surface": [
                      {
                        "colorbar": {
                          "outlinewidth": 0,
                          "ticks": ""
                        },
                        "colorscale": [
                          [
                            0,
                            "#0d0887"
                          ],
                          [
                            0.1111111111111111,
                            "#46039f"
                          ],
                          [
                            0.2222222222222222,
                            "#7201a8"
                          ],
                          [
                            0.3333333333333333,
                            "#9c179e"
                          ],
                          [
                            0.4444444444444444,
                            "#bd3786"
                          ],
                          [
                            0.5555555555555556,
                            "#d8576b"
                          ],
                          [
                            0.6666666666666666,
                            "#ed7953"
                          ],
                          [
                            0.7777777777777778,
                            "#fb9f3a"
                          ],
                          [
                            0.8888888888888888,
                            "#fdca26"
                          ],
                          [
                            1,
                            "#f0f921"
                          ]
                        ],
                        "type": "surface"
                      }
                    ],
                    "table": [
                      {
                        "cells": {
                          "fill": {
                            "color": "#EBF0F8"
                          },
                          "line": {
                            "color": "white"
                          }
                        },
                        "header": {
                          "fill": {
                            "color": "#C8D4E3"
                          },
                          "line": {
                            "color": "white"
                          }
                        },
                        "type": "table"
                      }
                    ]
                  },
                  "layout": {
                    "annotationdefaults": {
                      "arrowcolor": "#2a3f5f",
                      "arrowhead": 0,
                      "arrowwidth": 1
                    },
                    "autotypenumbers": "strict",
                    "coloraxis": {
                      "colorbar": {
                        "outlinewidth": 0,
                        "ticks": ""
                      }
                    },
                    "colorscale": {
                      "diverging": [
                        [
                          0,
                          "#8e0152"
                        ],
                        [
                          0.1,
                          "#c51b7d"
                        ],
                        [
                          0.2,
                          "#de77ae"
                        ],
                        [
                          0.3,
                          "#f1b6da"
                        ],
                        [
                          0.4,
                          "#fde0ef"
                        ],
                        [
                          0.5,
                          "#f7f7f7"
                        ],
                        [
                          0.6,
                          "#e6f5d0"
                        ],
                        [
                          0.7,
                          "#b8e186"
                        ],
                        [
                          0.8,
                          "#7fbc41"
                        ],
                        [
                          0.9,
                          "#4d9221"
                        ],
                        [
                          1,
                          "#276419"
                        ]
                      ],
                      "sequential": [
                        [
                          0,
                          "#0d0887"
                        ],
                        [
                          0.1111111111111111,
                          "#46039f"
                        ],
                        [
                          0.2222222222222222,
                          "#7201a8"
                        ],
                        [
                          0.3333333333333333,
                          "#9c179e"
                        ],
                        [
                          0.4444444444444444,
                          "#bd3786"
                        ],
                        [
                          0.5555555555555556,
                          "#d8576b"
                        ],
                        [
                          0.6666666666666666,
                          "#ed7953"
                        ],
                        [
                          0.7777777777777778,
                          "#fb9f3a"
                        ],
                        [
                          0.8888888888888888,
                          "#fdca26"
                        ],
                        [
                          1,
                          "#f0f921"
                        ]
                      ],
                      "sequentialminus": [
                        [
                          0,
                          "#0d0887"
                        ],
                        [
                          0.1111111111111111,
                          "#46039f"
                        ],
                        [
                          0.2222222222222222,
                          "#7201a8"
                        ],
                        [
                          0.3333333333333333,
                          "#9c179e"
                        ],
                        [
                          0.4444444444444444,
                          "#bd3786"
                        ],
                        [
                          0.5555555555555556,
                          "#d8576b"
                        ],
                        [
                          0.6666666666666666,
                          "#ed7953"
                        ],
                        [
                          0.7777777777777778,
                          "#fb9f3a"
                        ],
                        [
                          0.8888888888888888,
                          "#fdca26"
                        ],
                        [
                          1,
                          "#f0f921"
                        ]
                      ]
                    },
                    "colorway": [
                      "#636efa",
                      "#EF553B",
                      "#00cc96",
                      "#ab63fa",
                      "#FFA15A",
                      "#19d3f3",
                      "#FF6692",
                      "#B6E880",
                      "#FF97FF",
                      "#FECB52"
                    ],
                    "font": {
                      "color": "#2a3f5f"
                    },
                    "geo": {
                      "bgcolor": "white",
                      "lakecolor": "white",
                      "landcolor": "#E5ECF6",
                      "showlakes": true,
                      "showland": true,
                      "subunitcolor": "white"
                    },
                    "hoverlabel": {
                      "align": "left"
                    },
                    "hovermode": "closest",
                    "mapbox": {
                      "style": "light"
                    },
                    "paper_bgcolor": "white",
                    "plot_bgcolor": "#E5ECF6",
                    "polar": {
                      "angularaxis": {
                        "gridcolor": "white",
                        "linecolor": "white",
                        "ticks": ""
                      },
                      "bgcolor": "#E5ECF6",
                      "radialaxis": {
                        "gridcolor": "white",
                        "linecolor": "white",
                        "ticks": ""
                      }
                    },
                    "scene": {
                      "xaxis": {
                        "backgroundcolor": "#E5ECF6",
                        "gridcolor": "white",
                        "gridwidth": 2,
                        "linecolor": "white",
                        "showbackground": true,
                        "ticks": "",
                        "zerolinecolor": "white"
                      },
                      "yaxis": {
                        "backgroundcolor": "#E5ECF6",
                        "gridcolor": "white",
                        "gridwidth": 2,
                        "linecolor": "white",
                        "showbackground": true,
                        "ticks": "",
                        "zerolinecolor": "white"
                      },
                      "zaxis": {
                        "backgroundcolor": "#E5ECF6",
                        "gridcolor": "white",
                        "gridwidth": 2,
                        "linecolor": "white",
                        "showbackground": true,
                        "ticks": "",
                        "zerolinecolor": "white"
                      }
                    },
                    "shapedefaults": {
                      "line": {
                        "color": "#2a3f5f"
                      }
                    },
                    "ternary": {
                      "aaxis": {
                        "gridcolor": "white",
                        "linecolor": "white",
                        "ticks": ""
                      },
                      "baxis": {
                        "gridcolor": "white",
                        "linecolor": "white",
                        "ticks": ""
                      },
                      "bgcolor": "#E5ECF6",
                      "caxis": {
                        "gridcolor": "white",
                        "linecolor": "white",
                        "ticks": ""
                      }
                    },
                    "title": {
                      "x": 0.05
                    },
                    "xaxis": {
                      "automargin": true,
                      "gridcolor": "white",
                      "linecolor": "white",
                      "ticks": "",
                      "title": {
                        "standoff": 15
                      },
                      "zerolinecolor": "white",
                      "zerolinewidth": 2
                    },
                    "yaxis": {
                      "automargin": true,
                      "gridcolor": "white",
                      "linecolor": "white",
                      "ticks": "",
                      "title": {
                        "standoff": 15
                      },
                      "zerolinecolor": "white",
                      "zerolinewidth": 2
                    }
                  }
                },
                "title": {
                  "text": "GDP per Capita vs. Life Expectancy in Africa"
                },
                "xaxis": {
                  "anchor": "y",
                  "domain": [
                    0,
                    1
                  ],
                  "title": {
                    "text": "gdpPercap"
                  }
                },
                "yaxis": {
                  "anchor": "x",
                  "domain": [
                    0,
                    1
                  ],
                  "title": {
                    "text": "lifeExp"
                  }
                }
              }
            }
          },
          "metadata": {},
          "output_type": "display_data"
        }
      ],
      "source": [
        "fig = px.scatter(africa_df, x='gdpPercap', y='lifeExp', title='GDP per Capita vs. Life Expectancy in Africa', color='country')\n",
        "fig.show()"
      ]
    }
  ],
  "metadata": {
    "colab": {
      "provenance": []
    },
    "kernelspec": {
      "display_name": "Python 3",
      "language": "python",
      "name": "python3"
    },
    "language_info": {
      "codemirror_mode": {
        "name": "ipython",
        "version": 3
      },
      "file_extension": ".py",
      "mimetype": "text/x-python",
      "name": "python",
      "nbconvert_exporter": "python",
      "pygments_lexer": "ipython3",
      "version": "3.10.4"
    }
  },
  "nbformat": 4,
  "nbformat_minor": 5
}
