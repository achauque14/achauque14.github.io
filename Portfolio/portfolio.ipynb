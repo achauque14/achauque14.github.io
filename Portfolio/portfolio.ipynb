{
  "cells": [
    {
      "cell_type": "markdown",
      "id": "korean-wednesday",
      "metadata": {
        "id": "korean-wednesday"
      },
      "source": [
        "# Online Portfolio\n",
        "Your company has received a few applications for a computer science position. You are the hiring manager and should review the online portfolios of the applicants. In particular, you should do the following:\n",
        "- Write a short review (including 3 strong and 3 weak points) for the online portfolio of each of the following applicants.\n",
        "    - [Megan Landau](http://www.meganlandau.com/portfolio-1/).\n",
        "    - [Kalyn Nakano](https://kalynnakano.com/).\n",
        "    - [Victoria Holland](https://victoria-holland.info/).\n",
        "    - [Gautam Krishna](https://www.gautamkrishnar.com/).\n",
        "    - [Lakshmi Chandana](https://chandanachaitanya.github.io/).\n",
        "- Rank the applicants for the job position based on your reviews.\n",
        "- Who will you hire in the end? Why?"
      ]
    },
    {
      "cell_type": "markdown",
      "source": [
        "Megan Landau:\n",
        "  \n",
        "positive:\n",
        "+ clear and well designed\n",
        "+ Volunteer experiences\n",
        "+ Contribution to open source community\n",
        "+ International experience\n",
        "\n",
        "Negative:\n",
        "-   Too touchpoints\n",
        "-   Missing Soft skills\n",
        "-   Non-functional links on portfolio\n",
        "\n",
        "\n",
        "Kalyn Nakano:\n",
        "\n",
        "Positive:\n",
        "+ The portfolio is simple and creative\n",
        "+ Personal fun projects\n",
        "+ Consistent timeline\n",
        "\n",
        "Negative:\n",
        "-   Missing links to code repositories\n",
        "-   Contact imofmation section is not easily visible\n",
        "-   The top right menu is always open\n",
        "-   No soft skills\n",
        "\n",
        "\n",
        "Victoria Holland\n",
        "\n",
        "Positive:\n",
        "+ Clear contact information section\n",
        "+ Simple navigation\n",
        "+ Diverse features avaible including testimonials\n",
        "\n",
        "Negative:\n",
        "- Design could be improved\n",
        ". Too much texts\n",
        ". NO CV\n",
        "- The template is old-fashioned\n",
        "\n",
        "Gautam Krishna:\n",
        "\n",
        "Positive:\n",
        "+ Portfolio section is clear\n",
        "+ Having a quote was a good idea\n",
        "+ A lot of profects with pages and links\n",
        "+ The design is good + Active on GitHub\n",
        "\n",
        "Negative:\n",
        "-   Font color is not good\n",
        "-   Big blank section\n",
        "-   Education section is missing\n",
        "\n",
        "Lakshmi Chandana:\n",
        "\n",
        "Positive:\n",
        "+ Easily readable\n",
        "+ Very low touchpoints\n",
        "+ Visualization of technologies and skills\n",
        "+ Soft skills incuded\n",
        "+ Education section is good + why me section is there\n",
        "\n",
        "Negative:\n",
        "-   Source code links are missing\n",
        "*   Non functional links\n",
        "-   not active anymore on Git\n"
      ],
      "metadata": {
        "id": "EDuPfNt7RsLs"
      },
      "id": "EDuPfNt7RsLs"
    },
    {
      "cell_type": "code",
      "execution_count": null,
      "id": "cff7f270",
      "metadata": {
        "id": "cff7f270"
      },
      "outputs": [],
      "source": []
    }
  ],
  "metadata": {
    "kernelspec": {
      "display_name": "Python 3",
      "language": "python",
      "name": "python3"
    },
    "language_info": {
      "codemirror_mode": {
        "name": "ipython",
        "version": 3
      },
      "file_extension": ".py",
      "mimetype": "text/x-python",
      "name": "python",
      "nbconvert_exporter": "python",
      "pygments_lexer": "ipython3",
      "version": "3.8.5"
    },
    "colab": {
      "provenance": []
    }
  },
  "nbformat": 4,
  "nbformat_minor": 5
}