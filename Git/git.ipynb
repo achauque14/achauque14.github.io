{
  "cells": [
    {
      "cell_type": "markdown",
      "id": "korean-wednesday",
      "metadata": {
        "id": "korean-wednesday"
      },
      "source": [
        "# Git\n",
        "You should build a Git repository. In particular, you should do the following:\n",
        "- Create a Git repository on your system.\n",
        "- Add all of your previous exercises to this repository.\n",
        "- Create and merge branches when developing your repository.  "
      ]
    },
    {
      "cell_type": "code",
      "execution_count": null,
      "id": "cff7f270",
      "metadata": {
        "id": "cff7f270"
      },
      "outputs": [],
      "source": []
    }
  ],
  "metadata": {
    "kernelspec": {
      "display_name": "Python 3",
      "language": "python",
      "name": "python3"
    },
    "language_info": {
      "codemirror_mode": {
        "name": "ipython",
        "version": 3
      },
      "file_extension": ".py",
      "mimetype": "text/x-python",
      "name": "python",
      "nbconvert_exporter": "python",
      "pygments_lexer": "ipython3",
      "version": "3.11.2"
    },
    "colab": {
      "provenance": []
    }
  },
  "nbformat": 4,
  "nbformat_minor": 5
}